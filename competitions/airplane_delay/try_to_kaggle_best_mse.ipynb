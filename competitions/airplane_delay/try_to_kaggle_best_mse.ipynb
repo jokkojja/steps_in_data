{
 "cells": [
  {
   "cell_type": "markdown",
   "id": "52aad008",
   "metadata": {},
   "source": [
    "# Соревнование - https://www.kaggle.com/c/departure-delay2"
   ]
  },
  {
   "cell_type": "markdown",
   "id": "aee83ed5",
   "metadata": {},
   "source": [
    "# Описание данных\n",
    "1. Unnamed: 0 - лишний безинформативный столбец\n",
    "2. Year - год\n",
    "3. Month - месяц\n",
    "4. DayOfWeek - день недели\n",
    "5. DepTime - время отправления в формате HH:MM (надо преобразовать)\n",
    "6. CRSDepTime - запланированное время отправления в формате HH:MM (надо преобразовать)\n",
    "7. ArrTime - время вылета в формате HH:MM (надо преобразовать)\n",
    "8. CRSArrTime - запланированное время прибытия в формате HH:MM (надо преобразовать)\n",
    "9. UniqueCarrier - ID оператора связи (???)\n",
    "10. FlightNum - номер рейса \n",
    "11. TailNum - бортовой номер самолета\n",
    "12. ActualElapsedTime - фактическое время полета в минутах\n",
    "13. CRSElapsedTime - запланированное время полета в минутах\n",
    "14. AirTime - время полета в воздухе в минутах\n",
    "15. ArrDelay - задержка прибытия в минутах\n",
    "16. Origin - аэропорт отправления\n",
    "17. Dest - аэропорт назначения\n",
    "18. Distance - дистанция полета\n",
    "19. ??\n",
    "20. ??\n",
    "21. Cancelled - статус отмены (1 0)\n",
    "22. CancellationCode - код отмены\n",
    "23. Diverted - статус переадресации (???)\n",
    "24. CarrierDelay - задержка в минутах, связанная с оператором связи\n",
    "25. WeatherDelay - задержка в минутах, связанная с погодными факторами \n",
    "26. NASDelay - задержка в минутах, относящаяся к Национальной авиационной системе\n",
    "27. SecurityDelay - задержка в минутах, связанная с факторами безопасности\n",
    "28. LateAircraftDelay - задержка в минутах, связанная с опозданием воздушного судна"
   ]
  },
  {
   "cell_type": "markdown",
   "id": "c2e41c0b",
   "metadata": {},
   "source": [
    "* Столбец Unnamed: 0 можно удалить сразу, никакой информации он не несет.\n",
    "* Стоит преобразовать даты: сконкатенировать день, месяц и год. Пока не знаю как их преобразовать для линейной регрессии, удалю.\n",
    "* Последние столбцы с задержками можно схлопнуть в один total_factor_delay, но в них очень   много пропущенных значений, нужно оптимальным образом их заполнить (сначала попробую заполнить их медианным значением)\n",
    "* Такие данные как CancellationCode, Diverted, Dest, Origin - вряд ли будут релевантны"
   ]
  },
  {
   "cell_type": "code",
   "execution_count": 1,
   "id": "d65c7441",
   "metadata": {},
   "outputs": [],
   "source": [
    "import pandas as pd\n",
    "import numpy as np\n",
    "import matplotlib.pyplot as plt\n",
    "import seaborn as sns\n",
    "from sklearn.linear_model import SGDRegressor\n",
    "from sklearn.linear_model import LinearRegression\n",
    "from sklearn.linear_model import Ridge\n",
    "from sklearn.linear_model import Lasso\n",
    "from sklearn.tree import DecisionTreeRegressor\n",
    "\n",
    "from sklearn.preprocessing import StandardScaler\n",
    "from sklearn.decomposition import TruncatedSVD\n",
    "from sklearn.decomposition import PCA\n",
    "from sklearn.model_selection import KFold\n",
    "from sklearn.model_selection import GridSearchCV\n",
    "from sklearn.metrics import mean_squared_error\n",
    "from sklearn.model_selection import train_test_split"
   ]
  },
  {
   "cell_type": "code",
   "execution_count": null,
   "id": "e941aeeb",
   "metadata": {},
   "outputs": [],
   "source": [
    "train = pd.read_csv('departure-delay2/x_train.csv')\n",
    "test = pd.read_csv('departure-delay2/x_test.csv')\n",
    "target = pd.read_csv('departure-delay2/y_train.csv')\n"
   ]
  },
  {
   "cell_type": "code",
   "execution_count": null,
   "id": "8a23ea73",
   "metadata": {},
   "outputs": [],
   "source": [
    "print('Shape --->',train.shape)\n",
    "print(train.info(), '\\n')\n",
    "print('ISNA SUM ---->\\n',train.isna().sum())\n",
    "train.head(5)"
   ]
  },
  {
   "cell_type": "code",
   "execution_count": null,
   "id": "07781646",
   "metadata": {},
   "outputs": [],
   "source": [
    "train.isna().sum().index"
   ]
  },
  {
   "cell_type": "code",
   "execution_count": null,
   "id": "dd3ff03a",
   "metadata": {},
   "outputs": [],
   "source": [
    "print('Shape --->',test.shape)\n",
    "print(test.info())\n",
    "print('ISNA SUM ---->\\n',test.isna().sum())\n",
    "test.head(5)\n"
   ]
  },
  {
   "cell_type": "code",
   "execution_count": null,
   "id": "b47c2cec",
   "metadata": {},
   "outputs": [],
   "source": [
    "print('Shape --->',target.shape)\n",
    "print(target.info())\n",
    "target.head(5)"
   ]
  },
  {
   "cell_type": "code",
   "execution_count": null,
   "id": "64b99e25",
   "metadata": {},
   "outputs": [],
   "source": [
    "train.describe()"
   ]
  },
  {
   "cell_type": "code",
   "execution_count": null,
   "id": "f8804539",
   "metadata": {},
   "outputs": [],
   "source": [
    "test.describe()"
   ]
  },
  {
   "cell_type": "code",
   "execution_count": null,
   "id": "ac952fc5",
   "metadata": {},
   "outputs": [],
   "source": [
    "train['id'] = [i for i in range(len(train))]\n",
    "train = train.merge(target, on = 'id')\n",
    "x_train = train.drop(['Unnamed: 0','UniqueCarrier', 'TailNum', 'Origin', 'Dest', 'CancellationCode'], axis=1)\n",
    "x_test = test.drop(['Unnamed: 0','UniqueCarrier', 'TailNum', 'Origin', 'Dest', 'CancellationCode'], axis=1)"
   ]
  },
  {
   "cell_type": "code",
   "execution_count": null,
   "id": "ba566f07",
   "metadata": {},
   "outputs": [],
   "source": [
    "x_train['CarrierDelay'].fillna(x_train['CarrierDelay'].median(), inplace = True)\n",
    "x_train['WeatherDelay'].fillna(x_train['WeatherDelay'].median(), inplace = True)\n",
    "x_train['NASDelay'].fillna(x_train['NASDelay'].median(), inplace = True)\n",
    "x_train['SecurityDelay'].fillna(x_train['SecurityDelay'].median(), inplace = True)\n",
    "x_train['LateAircraftDelay'].fillna(x_train['LateAircraftDelay'].median(), inplace = True)\n",
    "x_train['ActualElapsedTime'].fillna(x_train['ActualElapsedTime'].median(), inplace = True)\n",
    "x_train['CRSElapsedTime'].fillna(x_train['CRSElapsedTime'].median(), inplace = True)\n",
    "x_train['AirTime'].fillna(x_train['AirTime'].median(), inplace = True)\n",
    "x_train['ArrDelay'].fillna(x_train['ArrDelay'].median(), inplace = True)\n",
    "x_train['TaxiIn'].fillna(x_train['TaxiIn'].median(), inplace = True)\n",
    "x_train['TaxiOut'].fillna(x_train['TaxiOut'].median(), inplace = True)\n",
    "x_train['ArrTime'].fillna(x_train['ArrTime'].median(), inplace = True)\n",
    "\n",
    "\n",
    "x_test['CarrierDelay'].fillna(x_test['CarrierDelay'].median(), inplace = True)\n",
    "x_test['WeatherDelay'].fillna(x_test['WeatherDelay'].median(), inplace = True)\n",
    "x_test['NASDelay'].fillna(x_test['NASDelay'].median(), inplace = True)\n",
    "x_test['SecurityDelay'].fillna(x_test['SecurityDelay'].median(), inplace = True)\n",
    "x_test['LateAircraftDelay'].fillna(x_test['LateAircraftDelay'].median(), inplace = True)\n",
    "x_test['ActualElapsedTime'].fillna(x_test['ActualElapsedTime'].median(), inplace = True)\n",
    "x_test['CRSElapsedTime'].fillna(x_test['CRSElapsedTime'].median(), inplace = True)\n",
    "x_test['AirTime'].fillna(x_test['AirTime'].median(), inplace = True)\n",
    "x_test['ArrDelay'].fillna(x_test['ArrDelay'].median(), inplace = True)\n",
    "x_test['TaxiIn'].fillna(x_test['TaxiIn'].median(), inplace = True)\n",
    "x_test['TaxiOut'].fillna(x_test['TaxiOut'].median(), inplace = True)\n",
    "x_test['ArrTime'].fillna(x_test['ArrTime'].median(), inplace = True)\n",
    "\n",
    "\n",
    "x_test.isna().sum()"
   ]
  },
  {
   "cell_type": "code",
   "execution_count": null,
   "id": "5d5ed825",
   "metadata": {},
   "outputs": [],
   "source": [
    "x_train[['CarrierDelay', 'WeatherDelay', 'NASDelay', 'SecurityDelay', 'LateAircraftDelay', 'ArrDelay']].describe()"
   ]
  },
  {
   "cell_type": "code",
   "execution_count": null,
   "id": "4f053c61",
   "metadata": {},
   "outputs": [],
   "source": [
    "x_train.isna().sum()"
   ]
  },
  {
   "cell_type": "code",
   "execution_count": null,
   "id": "651f2f9b",
   "metadata": {},
   "outputs": [],
   "source": [
    "x_train['Total_delay'] = x_train['CarrierDelay'] + x_train['WeatherDelay'] +\\\n",
    "                                     x_train['NASDelay'] + x_train['SecurityDelay'] +\\\n",
    "                                     x_train['LateAircraftDelay']\n",
    "\n",
    "\n",
    "x_test['Total_delay'] = x_test['CarrierDelay'] + x_test['WeatherDelay'] +\\\n",
    "                                     x_test['NASDelay'] + x_test['SecurityDelay'] +\\\n",
    "                                     x_test['LateAircraftDelay']\n",
    "\n",
    "\n",
    "x_train['Total_delay'].describe()"
   ]
  },
  {
   "cell_type": "code",
   "execution_count": null,
   "id": "ef65d15d",
   "metadata": {},
   "outputs": [],
   "source": [
    "x_test['Total_delay'].describe()"
   ]
  },
  {
   "cell_type": "code",
   "execution_count": null,
   "id": "d5c75cd4",
   "metadata": {},
   "outputs": [],
   "source": [
    "x_train['Total_delay'].isna().sum() # проверка что все Nan изменены"
   ]
  },
  {
   "cell_type": "code",
   "execution_count": null,
   "id": "72dfb0f3",
   "metadata": {},
   "outputs": [],
   "source": [
    "x_train['Total_delay'].hist()"
   ]
  },
  {
   "cell_type": "code",
   "execution_count": null,
   "id": "a3aa133b",
   "metadata": {},
   "outputs": [],
   "source": [
    "print(x_train['Total_delay'].shape)\n",
    "dev = (x_train['Total_delay']-x_train['Total_delay'].mean()).abs()\n",
    "# Стандартное отклонение\n",
    "std = x_train['Total_delay'].std()\n",
    "# Фильтруем исходный набор данных\n",
    "x_train = x_train[~(dev>3*std)]\n",
    "#правило трех сигм для отброса выборосов\n",
    "\n",
    "\n"
   ]
  },
  {
   "cell_type": "code",
   "execution_count": null,
   "id": "efe1aa1a",
   "metadata": {},
   "outputs": [],
   "source": [
    "x_train['Total_delay'].describe()"
   ]
  },
  {
   "cell_type": "code",
   "execution_count": null,
   "id": "dcdca463",
   "metadata": {},
   "outputs": [],
   "source": [
    "x_train['Total_delay'].isna().sum()"
   ]
  },
  {
   "cell_type": "code",
   "execution_count": null,
   "id": "49ce934a",
   "metadata": {},
   "outputs": [],
   "source": [
    "print(x_train['Total_delay'].shape)\n",
    "x_train['Total_delay'].hist()"
   ]
  },
  {
   "cell_type": "code",
   "execution_count": null,
   "id": "c2e0fa46",
   "metadata": {},
   "outputs": [],
   "source": [
    "x_train.head()"
   ]
  },
  {
   "cell_type": "code",
   "execution_count": null,
   "id": "8d3582ae",
   "metadata": {},
   "outputs": [],
   "source": [
    "x_train.groupby('DayOfWeek')['Total_delay'].sum().plot()"
   ]
  },
  {
   "cell_type": "code",
   "execution_count": null,
   "id": "d2cb5c5a",
   "metadata": {},
   "outputs": [],
   "source": [
    "x_train.groupby('Cancelled')['Total_delay'].sum()\n",
    "#после чистки остались только неотмененные рейсы, удаляем стоблец Cancelled"
   ]
  },
  {
   "cell_type": "code",
   "execution_count": null,
   "id": "db35a8d3",
   "metadata": {},
   "outputs": [],
   "source": [
    "x_train.drop('Cancelled', axis = 1, inplace = True)\n",
    "\n",
    "x_test.drop('Cancelled', axis = 1, inplace = True)"
   ]
  },
  {
   "cell_type": "code",
   "execution_count": null,
   "id": "4b9e7975",
   "metadata": {},
   "outputs": [],
   "source": [
    "X = x_train.drop(['id', 'DelayTime'], axis = 1)\n",
    "y = x_train['DelayTime']"
   ]
  },
  {
   "cell_type": "code",
   "execution_count": null,
   "id": "bc95e937",
   "metadata": {},
   "outputs": [],
   "source": [
    "X_train, X_test, y_train, y_test = train_test_split(X, y)"
   ]
  },
  {
   "cell_type": "code",
   "execution_count": null,
   "id": "6b9e4835",
   "metadata": {},
   "outputs": [],
   "source": [
    "reg = Ridge(alpha = 1.0)\n",
    "reg.fit(X_train, y_train)"
   ]
  },
  {
   "cell_type": "code",
   "execution_count": null,
   "id": "64f7e726",
   "metadata": {},
   "outputs": [],
   "source": [
    "pred = reg.predict(X_test)"
   ]
  },
  {
   "cell_type": "code",
   "execution_count": null,
   "id": "a32372bd",
   "metadata": {},
   "outputs": [],
   "source": [
    "mean_squared_error(pred, y_test)"
   ]
  },
  {
   "cell_type": "code",
   "execution_count": null,
   "id": "fb255b1c",
   "metadata": {},
   "outputs": [],
   "source": [
    "prediction = reg.predict(x_test)"
   ]
  },
  {
   "cell_type": "code",
   "execution_count": null,
   "id": "2faeb9e0",
   "metadata": {},
   "outputs": [],
   "source": [
    "pd.Series(prediction, name='DelayTime').to_csv('prediction.csv', index_label='id', header=True)\n",
    "test = pd.read_csv('prediction.csv')\n",
    "test\n",
    "#private MSE score - 7.30213 "
   ]
  },
  {
   "cell_type": "code",
   "execution_count": null,
   "id": "2d6fedfc",
   "metadata": {},
   "outputs": [],
   "source": []
  }
 ],
 "metadata": {
  "kernelspec": {
   "display_name": "Python 3",
   "language": "python",
   "name": "python3"
  },
  "language_info": {
   "codemirror_mode": {
    "name": "ipython",
    "version": 3
   },
   "file_extension": ".py",
   "mimetype": "text/x-python",
   "name": "python",
   "nbconvert_exporter": "python",
   "pygments_lexer": "ipython3",
   "version": "3.8.8"
  }
 },
 "nbformat": 4,
 "nbformat_minor": 5
}
