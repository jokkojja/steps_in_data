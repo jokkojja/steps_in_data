{
 "cells": [
  {
   "cell_type": "markdown",
   "metadata": {},
   "source": [
    "## COMPETITION LINK \n",
    "https://www.kaggle.com/c/tabular-playground-series-nov-2021/overview\n",
    "### My kaggle account https://www.kaggle.com/jokkojja"
   ]
  },
  {
   "cell_type": "code",
   "execution_count": 74,
   "metadata": {
    "execution": {
     "iopub.execute_input": "2021-11-29T08:48:05.718213Z",
     "iopub.status.busy": "2021-11-29T08:48:05.717894Z",
     "iopub.status.idle": "2021-11-29T08:48:07.116431Z",
     "shell.execute_reply": "2021-11-29T08:48:07.115521Z",
     "shell.execute_reply.started": "2021-11-29T08:48:05.718116Z"
    }
   },
   "outputs": [],
   "source": [
    "import pandas as pd\n",
    "import numpy as np\n",
    "import matplotlib.pyplot as plt\n",
    "import seaborn as sns\n",
    "from sklearn.tree import DecisionTreeClassifier\n",
    "from sklearn.ensemble import RandomForestClassifier, GradientBoostingClassifier\n",
    "from sklearn.neighbors import KNeighborsClassifier\n",
    "from sklearn.linear_model import LogisticRegression\n",
    "from sklearn.naive_bayes import GaussianNB\n",
    "from sklearn.model_selection import train_test_split, GridSearchCV, KFold, cross_val_score\n",
    "from sklearn.metrics import roc_auc_score\n",
    "from sklearn.preprocessing import StandardScaler, MinMaxScaler\n",
    "from sklearn.pipeline import Pipeline\n",
    "from sklearn.feature_selection import SelectKBest, chi2, f_classif\n",
    "from sklearn.svm import LinearSVC # faster then SVC\n",
    "import multiprocessing\n",
    "import warnings\n",
    "warnings.filterwarnings(\"ignore\")"
   ]
  },
  {
   "cell_type": "code",
   "execution_count": 2,
   "metadata": {
    "execution": {
     "iopub.execute_input": "2021-11-29T08:48:10.014422Z",
     "iopub.status.busy": "2021-11-29T08:48:10.012802Z",
     "iopub.status.idle": "2021-11-29T08:48:10.018740Z",
     "shell.execute_reply": "2021-11-29T08:48:10.017976Z",
     "shell.execute_reply.started": "2021-11-29T08:48:10.014368Z"
    }
   },
   "outputs": [],
   "source": [
    "MAX_CORE_COUNT = multiprocessing.cpu_count()"
   ]
  },
  {
   "cell_type": "markdown",
   "metadata": {},
   "source": [
    "# DATA EXPROLATION"
   ]
  },
  {
   "cell_type": "code",
   "execution_count": 8,
   "metadata": {
    "execution": {
     "iopub.execute_input": "2021-11-29T08:48:11.783153Z",
     "iopub.status.busy": "2021-11-29T08:48:11.782852Z",
     "iopub.status.idle": "2021-11-29T08:48:41.437675Z",
     "shell.execute_reply": "2021-11-29T08:48:41.437003Z",
     "shell.execute_reply.started": "2021-11-29T08:48:11.783120Z"
    }
   },
   "outputs": [],
   "source": [
    "train = pd.read_csv('tabular-playground-series-nov-2021/train.csv')\n",
    "test = pd.read_csv('tabular-playground-series-nov-2021/test.csv')"
   ]
  },
  {
   "cell_type": "code",
   "execution_count": 9,
   "metadata": {
    "execution": {
     "iopub.execute_input": "2021-11-29T08:48:41.443452Z",
     "iopub.status.busy": "2021-11-29T08:48:41.441766Z",
     "iopub.status.idle": "2021-11-29T08:48:41.486647Z",
     "shell.execute_reply": "2021-11-29T08:48:41.485791Z",
     "shell.execute_reply.started": "2021-11-29T08:48:41.443415Z"
    }
   },
   "outputs": [
    {
     "name": "stdout",
     "output_type": "stream",
     "text": [
      "train shape -  (600000, 102)\n"
     ]
    },
    {
     "data": {
      "text/html": [
       "<div>\n",
       "<style scoped>\n",
       "    .dataframe tbody tr th:only-of-type {\n",
       "        vertical-align: middle;\n",
       "    }\n",
       "\n",
       "    .dataframe tbody tr th {\n",
       "        vertical-align: top;\n",
       "    }\n",
       "\n",
       "    .dataframe thead th {\n",
       "        text-align: right;\n",
       "    }\n",
       "</style>\n",
       "<table border=\"1\" class=\"dataframe\">\n",
       "  <thead>\n",
       "    <tr style=\"text-align: right;\">\n",
       "      <th></th>\n",
       "      <th>id</th>\n",
       "      <th>f0</th>\n",
       "      <th>f1</th>\n",
       "      <th>f2</th>\n",
       "      <th>f3</th>\n",
       "      <th>f4</th>\n",
       "      <th>f5</th>\n",
       "      <th>f6</th>\n",
       "      <th>f7</th>\n",
       "      <th>f8</th>\n",
       "      <th>...</th>\n",
       "      <th>f91</th>\n",
       "      <th>f92</th>\n",
       "      <th>f93</th>\n",
       "      <th>f94</th>\n",
       "      <th>f95</th>\n",
       "      <th>f96</th>\n",
       "      <th>f97</th>\n",
       "      <th>f98</th>\n",
       "      <th>f99</th>\n",
       "      <th>target</th>\n",
       "    </tr>\n",
       "  </thead>\n",
       "  <tbody>\n",
       "    <tr>\n",
       "      <th>0</th>\n",
       "      <td>0</td>\n",
       "      <td>0.106643</td>\n",
       "      <td>3.59437</td>\n",
       "      <td>132.8040</td>\n",
       "      <td>3.18428</td>\n",
       "      <td>0.081971</td>\n",
       "      <td>1.18859</td>\n",
       "      <td>3.73238</td>\n",
       "      <td>2.266270</td>\n",
       "      <td>2.09959</td>\n",
       "      <td>...</td>\n",
       "      <td>1.09862</td>\n",
       "      <td>0.013331</td>\n",
       "      <td>-0.011715</td>\n",
       "      <td>0.052759</td>\n",
       "      <td>0.065400</td>\n",
       "      <td>4.211250</td>\n",
       "      <td>1.97877</td>\n",
       "      <td>0.085974</td>\n",
       "      <td>0.240496</td>\n",
       "      <td>0</td>\n",
       "    </tr>\n",
       "    <tr>\n",
       "      <th>1</th>\n",
       "      <td>1</td>\n",
       "      <td>0.125021</td>\n",
       "      <td>1.67336</td>\n",
       "      <td>76.5336</td>\n",
       "      <td>3.37825</td>\n",
       "      <td>0.099400</td>\n",
       "      <td>5.09366</td>\n",
       "      <td>1.27562</td>\n",
       "      <td>-0.471318</td>\n",
       "      <td>4.54594</td>\n",
       "      <td>...</td>\n",
       "      <td>3.46017</td>\n",
       "      <td>0.017054</td>\n",
       "      <td>0.124863</td>\n",
       "      <td>0.154064</td>\n",
       "      <td>0.606848</td>\n",
       "      <td>-0.267928</td>\n",
       "      <td>2.57786</td>\n",
       "      <td>-0.020877</td>\n",
       "      <td>0.024719</td>\n",
       "      <td>0</td>\n",
       "    </tr>\n",
       "    <tr>\n",
       "      <th>2</th>\n",
       "      <td>2</td>\n",
       "      <td>0.036330</td>\n",
       "      <td>1.49747</td>\n",
       "      <td>233.5460</td>\n",
       "      <td>2.19435</td>\n",
       "      <td>0.026914</td>\n",
       "      <td>3.12694</td>\n",
       "      <td>5.05687</td>\n",
       "      <td>3.849460</td>\n",
       "      <td>1.80187</td>\n",
       "      <td>...</td>\n",
       "      <td>4.88300</td>\n",
       "      <td>0.085222</td>\n",
       "      <td>0.032396</td>\n",
       "      <td>0.116092</td>\n",
       "      <td>-0.001688</td>\n",
       "      <td>-0.520069</td>\n",
       "      <td>2.14112</td>\n",
       "      <td>0.124464</td>\n",
       "      <td>0.148209</td>\n",
       "      <td>0</td>\n",
       "    </tr>\n",
       "    <tr>\n",
       "      <th>3</th>\n",
       "      <td>3</td>\n",
       "      <td>-0.014077</td>\n",
       "      <td>0.24600</td>\n",
       "      <td>779.9670</td>\n",
       "      <td>1.89064</td>\n",
       "      <td>0.006948</td>\n",
       "      <td>1.53112</td>\n",
       "      <td>2.69800</td>\n",
       "      <td>4.517330</td>\n",
       "      <td>4.50332</td>\n",
       "      <td>...</td>\n",
       "      <td>3.47439</td>\n",
       "      <td>-0.017103</td>\n",
       "      <td>-0.008100</td>\n",
       "      <td>0.062013</td>\n",
       "      <td>0.041193</td>\n",
       "      <td>0.511657</td>\n",
       "      <td>1.96860</td>\n",
       "      <td>0.040017</td>\n",
       "      <td>0.044873</td>\n",
       "      <td>0</td>\n",
       "    </tr>\n",
       "    <tr>\n",
       "      <th>4</th>\n",
       "      <td>4</td>\n",
       "      <td>-0.003259</td>\n",
       "      <td>3.71542</td>\n",
       "      <td>156.1280</td>\n",
       "      <td>2.14772</td>\n",
       "      <td>0.018284</td>\n",
       "      <td>2.09859</td>\n",
       "      <td>4.15492</td>\n",
       "      <td>-0.038236</td>\n",
       "      <td>3.37145</td>\n",
       "      <td>...</td>\n",
       "      <td>1.91059</td>\n",
       "      <td>-0.042943</td>\n",
       "      <td>0.105616</td>\n",
       "      <td>0.125072</td>\n",
       "      <td>0.037509</td>\n",
       "      <td>1.043790</td>\n",
       "      <td>1.07481</td>\n",
       "      <td>-0.012819</td>\n",
       "      <td>0.072798</td>\n",
       "      <td>1</td>\n",
       "    </tr>\n",
       "  </tbody>\n",
       "</table>\n",
       "<p>5 rows × 102 columns</p>\n",
       "</div>"
      ],
      "text/plain": [
       "   id        f0       f1        f2       f3        f4       f5       f6  \\\n",
       "0   0  0.106643  3.59437  132.8040  3.18428  0.081971  1.18859  3.73238   \n",
       "1   1  0.125021  1.67336   76.5336  3.37825  0.099400  5.09366  1.27562   \n",
       "2   2  0.036330  1.49747  233.5460  2.19435  0.026914  3.12694  5.05687   \n",
       "3   3 -0.014077  0.24600  779.9670  1.89064  0.006948  1.53112  2.69800   \n",
       "4   4 -0.003259  3.71542  156.1280  2.14772  0.018284  2.09859  4.15492   \n",
       "\n",
       "         f7       f8  ...      f91       f92       f93       f94       f95  \\\n",
       "0  2.266270  2.09959  ...  1.09862  0.013331 -0.011715  0.052759  0.065400   \n",
       "1 -0.471318  4.54594  ...  3.46017  0.017054  0.124863  0.154064  0.606848   \n",
       "2  3.849460  1.80187  ...  4.88300  0.085222  0.032396  0.116092 -0.001688   \n",
       "3  4.517330  4.50332  ...  3.47439 -0.017103 -0.008100  0.062013  0.041193   \n",
       "4 -0.038236  3.37145  ...  1.91059 -0.042943  0.105616  0.125072  0.037509   \n",
       "\n",
       "        f96      f97       f98       f99  target  \n",
       "0  4.211250  1.97877  0.085974  0.240496       0  \n",
       "1 -0.267928  2.57786 -0.020877  0.024719       0  \n",
       "2 -0.520069  2.14112  0.124464  0.148209       0  \n",
       "3  0.511657  1.96860  0.040017  0.044873       0  \n",
       "4  1.043790  1.07481 -0.012819  0.072798       1  \n",
       "\n",
       "[5 rows x 102 columns]"
      ]
     },
     "execution_count": 9,
     "metadata": {},
     "output_type": "execute_result"
    }
   ],
   "source": [
    "print(f'train shape -  {train.shape}')\n",
    "train.head()"
   ]
  },
  {
   "cell_type": "markdown",
   "metadata": {},
   "source": [
    "We have train dataset with 102 rows and 600000 columns"
   ]
  },
  {
   "cell_type": "code",
   "execution_count": 10,
   "metadata": {
    "execution": {
     "iopub.execute_input": "2021-11-29T08:48:41.488181Z",
     "iopub.status.busy": "2021-11-29T08:48:41.487881Z",
     "iopub.status.idle": "2021-11-29T08:48:44.063641Z",
     "shell.execute_reply": "2021-11-29T08:48:44.062796Z",
     "shell.execute_reply.started": "2021-11-29T08:48:41.488133Z"
    }
   },
   "outputs": [
    {
     "data": {
      "text/html": [
       "<div>\n",
       "<style scoped>\n",
       "    .dataframe tbody tr th:only-of-type {\n",
       "        vertical-align: middle;\n",
       "    }\n",
       "\n",
       "    .dataframe tbody tr th {\n",
       "        vertical-align: top;\n",
       "    }\n",
       "\n",
       "    .dataframe thead th {\n",
       "        text-align: right;\n",
       "    }\n",
       "</style>\n",
       "<table border=\"1\" class=\"dataframe\">\n",
       "  <thead>\n",
       "    <tr style=\"text-align: right;\">\n",
       "      <th></th>\n",
       "      <th>count</th>\n",
       "      <th>mean</th>\n",
       "      <th>std</th>\n",
       "      <th>min</th>\n",
       "      <th>25%</th>\n",
       "      <th>50%</th>\n",
       "      <th>75%</th>\n",
       "      <th>max</th>\n",
       "    </tr>\n",
       "  </thead>\n",
       "  <tbody>\n",
       "    <tr>\n",
       "      <th>id</th>\n",
       "      <td>600000.0</td>\n",
       "      <td>299999.500000</td>\n",
       "      <td>173205.225094</td>\n",
       "      <td>0.00000</td>\n",
       "      <td>149999.750000</td>\n",
       "      <td>299999.500000</td>\n",
       "      <td>449999.250000</td>\n",
       "      <td>599999.00000</td>\n",
       "    </tr>\n",
       "    <tr>\n",
       "      <th>f0</th>\n",
       "      <td>600000.0</td>\n",
       "      <td>0.306508</td>\n",
       "      <td>0.522450</td>\n",
       "      <td>-3.79745</td>\n",
       "      <td>0.026222</td>\n",
       "      <td>0.097788</td>\n",
       "      <td>0.397184</td>\n",
       "      <td>8.78150</td>\n",
       "    </tr>\n",
       "    <tr>\n",
       "      <th>f1</th>\n",
       "      <td>600000.0</td>\n",
       "      <td>2.497590</td>\n",
       "      <td>1.554018</td>\n",
       "      <td>-1.22396</td>\n",
       "      <td>1.186237</td>\n",
       "      <td>2.516500</td>\n",
       "      <td>3.787630</td>\n",
       "      <td>6.22672</td>\n",
       "    </tr>\n",
       "    <tr>\n",
       "      <th>f2</th>\n",
       "      <td>600000.0</td>\n",
       "      <td>306.644536</td>\n",
       "      <td>551.743893</td>\n",
       "      <td>-1842.53000</td>\n",
       "      <td>43.573400</td>\n",
       "      <td>133.626000</td>\n",
       "      <td>302.262250</td>\n",
       "      <td>6119.28000</td>\n",
       "    </tr>\n",
       "    <tr>\n",
       "      <th>f3</th>\n",
       "      <td>600000.0</td>\n",
       "      <td>2.647901</td>\n",
       "      <td>1.544529</td>\n",
       "      <td>-1.36856</td>\n",
       "      <td>1.442028</td>\n",
       "      <td>2.634130</td>\n",
       "      <td>3.907640</td>\n",
       "      <td>6.52115</td>\n",
       "    </tr>\n",
       "    <tr>\n",
       "      <th>...</th>\n",
       "      <td>...</td>\n",
       "      <td>...</td>\n",
       "      <td>...</td>\n",
       "      <td>...</td>\n",
       "      <td>...</td>\n",
       "      <td>...</td>\n",
       "      <td>...</td>\n",
       "      <td>...</td>\n",
       "    </tr>\n",
       "    <tr>\n",
       "      <th>f96</th>\n",
       "      <td>600000.0</td>\n",
       "      <td>2.547853</td>\n",
       "      <td>1.558427</td>\n",
       "      <td>-1.58474</td>\n",
       "      <td>1.247888</td>\n",
       "      <td>2.601940</td>\n",
       "      <td>3.820665</td>\n",
       "      <td>6.25436</td>\n",
       "    </tr>\n",
       "    <tr>\n",
       "      <th>f97</th>\n",
       "      <td>600000.0</td>\n",
       "      <td>2.590159</td>\n",
       "      <td>1.525091</td>\n",
       "      <td>-1.25473</td>\n",
       "      <td>1.348078</td>\n",
       "      <td>2.682090</td>\n",
       "      <td>3.839520</td>\n",
       "      <td>6.14530</td>\n",
       "    </tr>\n",
       "    <tr>\n",
       "      <th>f98</th>\n",
       "      <td>600000.0</td>\n",
       "      <td>0.158881</td>\n",
       "      <td>0.436190</td>\n",
       "      <td>-3.99350</td>\n",
       "      <td>0.013536</td>\n",
       "      <td>0.058058</td>\n",
       "      <td>0.110718</td>\n",
       "      <td>10.76700</td>\n",
       "    </tr>\n",
       "    <tr>\n",
       "      <th>f99</th>\n",
       "      <td>600000.0</td>\n",
       "      <td>0.123048</td>\n",
       "      <td>0.264896</td>\n",
       "      <td>-2.78338</td>\n",
       "      <td>0.018105</td>\n",
       "      <td>0.058471</td>\n",
       "      <td>0.104872</td>\n",
       "      <td>5.98811</td>\n",
       "    </tr>\n",
       "    <tr>\n",
       "      <th>target</th>\n",
       "      <td>600000.0</td>\n",
       "      <td>0.506010</td>\n",
       "      <td>0.499964</td>\n",
       "      <td>0.00000</td>\n",
       "      <td>0.000000</td>\n",
       "      <td>1.000000</td>\n",
       "      <td>1.000000</td>\n",
       "      <td>1.00000</td>\n",
       "    </tr>\n",
       "  </tbody>\n",
       "</table>\n",
       "<p>102 rows × 8 columns</p>\n",
       "</div>"
      ],
      "text/plain": [
       "           count           mean            std         min            25%  \\\n",
       "id      600000.0  299999.500000  173205.225094     0.00000  149999.750000   \n",
       "f0      600000.0       0.306508       0.522450    -3.79745       0.026222   \n",
       "f1      600000.0       2.497590       1.554018    -1.22396       1.186237   \n",
       "f2      600000.0     306.644536     551.743893 -1842.53000      43.573400   \n",
       "f3      600000.0       2.647901       1.544529    -1.36856       1.442028   \n",
       "...          ...            ...            ...         ...            ...   \n",
       "f96     600000.0       2.547853       1.558427    -1.58474       1.247888   \n",
       "f97     600000.0       2.590159       1.525091    -1.25473       1.348078   \n",
       "f98     600000.0       0.158881       0.436190    -3.99350       0.013536   \n",
       "f99     600000.0       0.123048       0.264896    -2.78338       0.018105   \n",
       "target  600000.0       0.506010       0.499964     0.00000       0.000000   \n",
       "\n",
       "                  50%            75%           max  \n",
       "id      299999.500000  449999.250000  599999.00000  \n",
       "f0           0.097788       0.397184       8.78150  \n",
       "f1           2.516500       3.787630       6.22672  \n",
       "f2         133.626000     302.262250    6119.28000  \n",
       "f3           2.634130       3.907640       6.52115  \n",
       "...               ...            ...           ...  \n",
       "f96          2.601940       3.820665       6.25436  \n",
       "f97          2.682090       3.839520       6.14530  \n",
       "f98          0.058058       0.110718      10.76700  \n",
       "f99          0.058471       0.104872       5.98811  \n",
       "target       1.000000       1.000000       1.00000  \n",
       "\n",
       "[102 rows x 8 columns]"
      ]
     },
     "execution_count": 10,
     "metadata": {},
     "output_type": "execute_result"
    }
   ],
   "source": [
    "train.describe().T"
   ]
  },
  {
   "cell_type": "markdown",
   "metadata": {},
   "source": [
    "Huge std, need to scale data."
   ]
  },
  {
   "cell_type": "code",
   "execution_count": 11,
   "metadata": {
    "execution": {
     "iopub.execute_input": "2021-11-29T08:48:44.065621Z",
     "iopub.status.busy": "2021-11-29T08:48:44.065351Z",
     "iopub.status.idle": "2021-11-29T08:48:44.201699Z",
     "shell.execute_reply": "2021-11-29T08:48:44.200909Z",
     "shell.execute_reply.started": "2021-11-29T08:48:44.065590Z"
    }
   },
   "outputs": [
    {
     "data": {
      "text/plain": [
       "array([0])"
      ]
     },
     "execution_count": 11,
     "metadata": {},
     "output_type": "execute_result"
    }
   ],
   "source": [
    "train.isna().sum().unique() # not nan"
   ]
  },
  {
   "cell_type": "markdown",
   "metadata": {},
   "source": [
    "Not nan values in train"
   ]
  },
  {
   "cell_type": "code",
   "execution_count": 12,
   "metadata": {
    "execution": {
     "iopub.execute_input": "2021-11-29T08:48:44.203328Z",
     "iopub.status.busy": "2021-11-29T08:48:44.203021Z",
     "iopub.status.idle": "2021-11-29T08:48:44.214435Z",
     "shell.execute_reply": "2021-11-29T08:48:44.213634Z",
     "shell.execute_reply.started": "2021-11-29T08:48:44.203285Z"
    }
   },
   "outputs": [
    {
     "data": {
      "text/plain": [
       "array([0, 1])"
      ]
     },
     "execution_count": 12,
     "metadata": {},
     "output_type": "execute_result"
    }
   ],
   "source": [
    "train.target.unique() # binary classification"
   ]
  },
  {
   "cell_type": "markdown",
   "metadata": {},
   "source": [
    "binary classification"
   ]
  },
  {
   "cell_type": "code",
   "execution_count": 13,
   "metadata": {
    "execution": {
     "iopub.execute_input": "2021-11-29T08:48:44.215729Z",
     "iopub.status.busy": "2021-11-29T08:48:44.215481Z",
     "iopub.status.idle": "2021-11-29T08:48:44.474991Z",
     "shell.execute_reply": "2021-11-29T08:48:44.474095Z",
     "shell.execute_reply.started": "2021-11-29T08:48:44.215689Z"
    }
   },
   "outputs": [
    {
     "name": "stderr",
     "output_type": "stream",
     "text": [
      "/Users/jokkojja/opt/anaconda3/lib/python3.8/site-packages/seaborn/_decorators.py:36: FutureWarning: Pass the following variable as a keyword arg: x. From version 0.12, the only valid positional argument will be `data`, and passing other arguments without an explicit keyword will result in an error or misinterpretation.\n",
      "  warnings.warn(\n"
     ]
    },
    {
     "data": {
      "image/png": "[encoded data removed]",
      "text/plain": [
       "<Figure size 432x288 with 1 Axes>"
      ]
     },
     "metadata": {
      "needs_background": "light"
     },
     "output_type": "display_data"
    }
   ],
   "source": [
    "sns.countplot(train.target) \n",
    "plt.title('Count of target types')\n",
    "plt.xlabel('Target')\n",
    "plt.ylabel('Count')\n",
    "plt.show()"
   ]
  },
  {
   "cell_type": "markdown",
   "metadata": {},
   "source": [
    "Train is balanced dataset"
   ]
  },
  {
   "cell_type": "code",
   "execution_count": 14,
   "metadata": {
    "execution": {
     "iopub.execute_input": "2021-11-29T08:48:44.476411Z",
     "iopub.status.busy": "2021-11-29T08:48:44.476179Z",
     "iopub.status.idle": "2021-11-29T08:48:58.311455Z",
     "shell.execute_reply": "2021-11-29T08:48:58.310829Z",
     "shell.execute_reply.started": "2021-11-29T08:48:44.476381Z"
    }
   },
   "outputs": [
    {
     "data": {
      "image/png": "[encoded data removed]",
      "text/plain": [
       "<Figure size 2160x2160 with 100 Axes>"
      ]
     },
     "metadata": {
      "needs_background": "light"
     },
     "output_type": "display_data"
    }
   ],
   "source": [
    "train.drop(['id', 'target'], axis = 1).hist(figsize = (30, 30)) \n",
    "plt.show()"
   ]
  },
  {
   "cell_type": "markdown",
   "metadata": {},
   "source": [
    "Bimodal distribution and many outliers"
   ]
  },
  {
   "cell_type": "code",
   "execution_count": 15,
   "metadata": {
    "execution": {
     "iopub.execute_input": "2021-11-29T08:48:58.312868Z",
     "iopub.status.busy": "2021-11-29T08:48:58.312557Z",
     "iopub.status.idle": "2021-11-29T08:49:17.090562Z",
     "shell.execute_reply": "2021-11-29T08:49:17.089949Z",
     "shell.execute_reply.started": "2021-11-29T08:48:58.312825Z"
    }
   },
   "outputs": [
    {
     "data": {
      "text/plain": [
       "<AxesSubplot:>"
      ]
     },
     "execution_count": 15,
     "metadata": {},
     "output_type": "execute_result"
    },
    {
     "data": {
      "image/png": "[encoded data removed]",
      "text/plain": [
       "<Figure size 1440x864 with 2 Axes>"
      ]
     },
     "metadata": {
      "needs_background": "light"
     },
     "output_type": "display_data"
    }
   ],
   "source": [
    "plt.figure(figsize = (20, 12))\n",
    "sns.heatmap(train.corr(), annot = False) "
   ]
  },
  {
   "cell_type": "markdown",
   "metadata": {},
   "source": [
    "Not medium or strong correlation"
   ]
  },
  {
   "cell_type": "markdown",
   "metadata": {},
   "source": [
    "# BASELINE"
   ]
  },
  {
   "cell_type": "code",
   "execution_count": 16,
   "metadata": {
    "execution": {
     "iopub.execute_input": "2021-11-29T08:49:17.092001Z",
     "iopub.status.busy": "2021-11-29T08:49:17.091676Z",
     "iopub.status.idle": "2021-11-29T08:49:17.840457Z",
     "shell.execute_reply": "2021-11-29T08:49:17.839596Z",
     "shell.execute_reply.started": "2021-11-29T08:49:17.091973Z"
    }
   },
   "outputs": [],
   "source": [
    "X = train.drop(['id', 'target'], axis = 1)\n",
    "y = train.target\n",
    "X_train, X_test, y_train, y_test = train_test_split(X, y, random_state = 1)"
   ]
  },
  {
   "cell_type": "code",
   "execution_count": 18,
   "metadata": {
    "execution": {
     "iopub.execute_input": "2021-11-29T08:49:17.842997Z",
     "iopub.status.busy": "2021-11-29T08:49:17.842747Z",
     "iopub.status.idle": "2021-11-29T08:53:21.710631Z",
     "shell.execute_reply": "2021-11-29T08:53:21.709328Z",
     "shell.execute_reply.started": "2021-11-29T08:49:17.842966Z"
    }
   },
   "outputs": [],
   "source": [
    "# sc = dabl.SimpleClassifier().fit(X_train, y_train)\n",
    "# sc.score(X_test, y_test)\n",
    "# sc.log_\n",
    "simple_clf = DecisionTreeClassifier()\n",
    "baseline = np.mean(cross_val_score(simple_clf, X_train, y_train, scoring = 'roc_auc', n_jobs = MAX_CORE_COUNT))\n",
    "#score of simple classifier without tuning"
   ]
  },
  {
   "cell_type": "code",
   "execution_count": 19,
   "metadata": {
    "execution": {
     "iopub.execute_input": "2021-11-29T08:53:21.713695Z",
     "iopub.status.busy": "2021-11-29T08:53:21.713368Z",
     "iopub.status.idle": "2021-11-29T08:53:21.720478Z",
     "shell.execute_reply": "2021-11-29T08:53:21.719693Z",
     "shell.execute_reply.started": "2021-11-29T08:53:21.713652Z"
    }
   },
   "outputs": [
    {
     "name": "stdout",
     "output_type": "stream",
     "text": [
      "roc auc score baseline - 0.5517265092369377\n"
     ]
    }
   ],
   "source": [
    "print(f'roc auc score baseline - {baseline}')"
   ]
  },
  {
   "cell_type": "markdown",
   "metadata": {},
   "source": [
    "Make a baseline prediction. Use simple model without tuning. Score - mean roc auc score 0.5517265092369377"
   ]
  },
  {
   "cell_type": "markdown",
   "metadata": {},
   "source": [
    "# MODELING"
   ]
  },
  {
   "cell_type": "markdown",
   "metadata": {},
   "source": [
    "## RandomForestClassifier"
   ]
  },
  {
   "cell_type": "code",
   "execution_count": 20,
   "metadata": {
    "execution": {
     "iopub.execute_input": "2021-11-29T08:53:21.750528Z",
     "iopub.status.busy": "2021-11-29T08:53:21.750060Z",
     "iopub.status.idle": "2021-11-29T08:53:21.762840Z",
     "shell.execute_reply": "2021-11-29T08:53:21.762157Z",
     "shell.execute_reply.started": "2021-11-29T08:53:21.750484Z"
    }
   },
   "outputs": [],
   "source": [
    "rndf_clf = RandomForestClassifier()\n",
    "standart_pipeline = Pipeline([('standart_scaler', StandardScaler()), ('model', rndf_clf)])\n",
    "minmax_pipeline = Pipeline([('min_max_scaler', MinMaxScaler()), ('model', rndf_clf)])"
   ]
  },
  {
   "cell_type": "markdown",
   "metadata": {},
   "source": [
    "I decided to use pipelines with 2 type of scalers. Min max scaler and standart scaler"
   ]
  },
  {
   "cell_type": "code",
   "execution_count": 21,
   "metadata": {
    "execution": {
     "iopub.execute_input": "2021-11-29T08:53:21.764853Z",
     "iopub.status.busy": "2021-11-29T08:53:21.764367Z",
     "iopub.status.idle": "2021-11-29T08:53:21.776762Z",
     "shell.execute_reply": "2021-11-29T08:53:21.775993Z",
     "shell.execute_reply.started": "2021-11-29T08:53:21.764810Z"
    }
   },
   "outputs": [],
   "source": [
    "rndf_clf_pipeline_dict = {\n",
    "    'standart' : standart_pipeline,\n",
    "    'min_max' : minmax_pipeline\n",
    "}\n",
    "random_forest_score_list = {}"
   ]
  },
  {
   "cell_type": "code",
   "execution_count": 101,
   "metadata": {
    "execution": {
     "iopub.execute_input": "2021-11-29T08:53:21.779172Z",
     "iopub.status.busy": "2021-11-29T08:53:21.778327Z",
     "iopub.status.idle": "2021-11-29T08:53:21.788429Z",
     "shell.execute_reply": "2021-11-29T08:53:21.787812Z",
     "shell.execute_reply.started": "2021-11-29T08:53:21.779119Z"
    }
   },
   "outputs": [],
   "source": [
    "def model_cross_val_score(my_pipeline_dict):\n",
    "    \"\"\"Function for calculating mean cross validation roc auc score for my pipelines\"\"\"\n",
    "    for key, pipe in my_pipeline_dict.items():\n",
    "        cv_scores = np.mean(cross_val_score(pipe,X_train, y_train, scoring = 'roc_auc', n_jobs = MAX_CORE_COUNT))\n",
    "        print(f\"mean roc auc score: {cv_scores}, for scaler {key}\")"
   ]
  },
  {
   "cell_type": "code",
   "execution_count": 23,
   "metadata": {
    "execution": {
     "iopub.execute_input": "2021-11-29T08:53:21.790511Z",
     "iopub.status.busy": "2021-11-29T08:53:21.789936Z",
     "iopub.status.idle": "2021-11-29T09:49:14.821184Z",
     "shell.execute_reply": "2021-11-29T09:49:14.819010Z",
     "shell.execute_reply.started": "2021-11-29T08:53:21.790465Z"
    }
   },
   "outputs": [
    {
     "name": "stdout",
     "output_type": "stream",
     "text": [
      "mean roc auc score: 0.704036685251504, for scaler standart\n",
      "mean roc auc score: 0.7052146567669524, for scaler min_max\n"
     ]
    }
   ],
   "source": [
    "model_cross_val_score(rndf_clf_pipeline_dict) \n",
    "# StandardScaler, MinMaxScaler\n",
    "# would like 4 scalers(StandardScaler, MinMaxScaler, RobustScaler, QuantileTransformer)\n",
    "# but training is so long"
   ]
  },
  {
   "cell_type": "markdown",
   "metadata": {},
   "source": [
    "## GradientBoostingClassifier"
   ]
  },
  {
   "cell_type": "code",
   "execution_count": null,
   "metadata": {
    "execution": {
     "iopub.execute_input": "2021-11-29T09:53:36.844017Z",
     "iopub.status.busy": "2021-11-29T09:53:36.843170Z",
     "iopub.status.idle": "2021-11-29T09:53:36.851007Z",
     "shell.execute_reply": "2021-11-29T09:53:36.849871Z",
     "shell.execute_reply.started": "2021-11-29T09:53:36.843968Z"
    }
   },
   "outputs": [],
   "source": [
    "grad_boost_clf = GradientBoostingClassifier(n_estimators=100, learning_rate=0.1, loss = 'deviance',\\\n",
    "                                           criterion = 'mse')\n",
    "standart_pipeline = Pipeline([('standart_scaler', StandardScaler()), ('model', grad_boost_clf)])\n",
    "minmax_pipeline = Pipeline([('min_max_scaler', MinMaxScaler()), ('model', grad_boost_clf)])"
   ]
  },
  {
   "cell_type": "code",
   "execution_count": null,
   "metadata": {
    "execution": {
     "iopub.execute_input": "2021-11-29T09:53:38.695455Z",
     "iopub.status.busy": "2021-11-29T09:53:38.695181Z",
     "iopub.status.idle": "2021-11-29T09:53:38.699390Z",
     "shell.execute_reply": "2021-11-29T09:53:38.698755Z",
     "shell.execute_reply.started": "2021-11-29T09:53:38.695427Z"
    }
   },
   "outputs": [],
   "source": [
    "grad_boost_clf_pipeline_dict = {\n",
    "    'standart' : standart_pipeline,\n",
    "    'min_max' : minmax_pipeline\n",
    "}\n",
    "grad_boost_score_list = {}"
   ]
  },
  {
   "cell_type": "code",
   "execution_count": null,
   "metadata": {
    "execution": {
     "iopub.execute_input": "2021-11-29T09:53:39.893613Z",
     "iopub.status.busy": "2021-11-29T09:53:39.892861Z",
     "iopub.status.idle": "2021-11-29T12:46:11.561512Z",
     "shell.execute_reply": "2021-11-29T12:46:11.557111Z",
     "shell.execute_reply.started": "2021-11-29T09:53:39.893575Z"
    }
   },
   "outputs": [],
   "source": [
    "#bad score\n",
    "model_cross_val_score(grad_boost_clf_pipeline_dict) \n",
    "# StandardScaler, MinMaxScaler, RobustScaler, QuantileTransformer"
   ]
  },
  {
   "cell_type": "markdown",
   "metadata": {},
   "source": [
    "## KNeighborsClassifier"
   ]
  },
  {
   "cell_type": "code",
   "execution_count": null,
   "metadata": {
    "execution": {
     "iopub.execute_input": "2021-11-29T12:50:58.508625Z",
     "iopub.status.busy": "2021-11-29T12:50:58.508150Z",
     "iopub.status.idle": "2021-11-29T12:50:58.523602Z",
     "shell.execute_reply": "2021-11-29T12:50:58.522673Z",
     "shell.execute_reply.started": "2021-11-29T12:50:58.508562Z"
    }
   },
   "outputs": [],
   "source": [
    "k_neigh_clf = KNeighborsClassifier()\n",
    "standart_pipeline = Pipeline([('standart_scaler', StandardScaler()), ('model', k_neigh_clf)])\n",
    "minmax_pipeline = Pipeline([('min_max_scaler', MinMaxScaler()), ('model', k_neigh_clf)])"
   ]
  },
  {
   "cell_type": "code",
   "execution_count": null,
   "metadata": {
    "execution": {
     "iopub.execute_input": "2021-11-29T12:50:59.728224Z",
     "iopub.status.busy": "2021-11-29T12:50:59.727935Z",
     "iopub.status.idle": "2021-11-29T12:50:59.733653Z",
     "shell.execute_reply": "2021-11-29T12:50:59.732644Z",
     "shell.execute_reply.started": "2021-11-29T12:50:59.728195Z"
    }
   },
   "outputs": [],
   "source": [
    "k_neigh_clf_pipeline_dict = {\n",
    "    'standart' : standart_pipeline,\n",
    "    'min_max' : minmax_pipeline\n",
    "}\n",
    "k_neigh_score_list = {}"
   ]
  },
  {
   "cell_type": "code",
   "execution_count": null,
   "metadata": {
    "execution": {
     "iopub.execute_input": "2021-11-29T12:51:00.104643Z",
     "iopub.status.busy": "2021-11-29T12:51:00.104132Z",
     "iopub.status.idle": "2021-11-29T15:29:09.621460Z",
     "shell.execute_reply": "2021-11-29T15:29:09.616586Z",
     "shell.execute_reply.started": "2021-11-29T12:51:00.104600Z"
    }
   },
   "outputs": [],
   "source": [
    "model_cross_val_score(k_neigh_clf_pipeline_dict) \n",
    "#very slow"
   ]
  },
  {
   "cell_type": "markdown",
   "metadata": {},
   "source": [
    "## LogisticRegression"
   ]
  },
  {
   "cell_type": "code",
   "execution_count": 24,
   "metadata": {
    "execution": {
     "iopub.execute_input": "2021-11-29T15:29:12.795499Z",
     "iopub.status.busy": "2021-11-29T15:29:12.794504Z",
     "iopub.status.idle": "2021-11-29T15:29:12.801312Z",
     "shell.execute_reply": "2021-11-29T15:29:12.800419Z",
     "shell.execute_reply.started": "2021-11-29T15:29:12.795452Z"
    }
   },
   "outputs": [],
   "source": [
    "log_reg_clf = LogisticRegression()\n",
    "standart_pipeline = Pipeline([('standart_scaler', StandardScaler()), ('model', log_reg_clf)])\n",
    "minmax_pipeline = Pipeline([('min_max_scaler', MinMaxScaler()), ('model', log_reg_clf)])"
   ]
  },
  {
   "cell_type": "code",
   "execution_count": 25,
   "metadata": {
    "execution": {
     "iopub.execute_input": "2021-11-29T15:29:13.031624Z",
     "iopub.status.busy": "2021-11-29T15:29:13.030702Z",
     "iopub.status.idle": "2021-11-29T15:29:13.036245Z",
     "shell.execute_reply": "2021-11-29T15:29:13.035487Z",
     "shell.execute_reply.started": "2021-11-29T15:29:13.031560Z"
    }
   },
   "outputs": [],
   "source": [
    "log_reg_clf_pipeline_dict = {\n",
    "    'standart' : standart_pipeline,\n",
    "    'min_max' : minmax_pipeline\n",
    "}\n",
    "log_reg_clf_score_list = {}"
   ]
  },
  {
   "cell_type": "code",
   "execution_count": 26,
   "metadata": {
    "execution": {
     "iopub.execute_input": "2021-11-29T15:29:13.316387Z",
     "iopub.status.busy": "2021-11-29T15:29:13.315388Z",
     "iopub.status.idle": "2021-11-29T15:29:54.618440Z",
     "shell.execute_reply": "2021-11-29T15:29:54.616499Z",
     "shell.execute_reply.started": "2021-11-29T15:29:13.316347Z"
    }
   },
   "outputs": [
    {
     "name": "stdout",
     "output_type": "stream",
     "text": [
      "mean roc auc score: 0.7489184367867202, for scaler standart\n",
      "mean roc auc score: 0.7483900889801646, for scaler min_max\n"
     ]
    }
   ],
   "source": [
    "model_cross_val_score(log_reg_clf_pipeline_dict) \n",
    "#best score for standart scaler"
   ]
  },
  {
   "cell_type": "markdown",
   "metadata": {},
   "source": [
    "## GaussianNB "
   ]
  },
  {
   "cell_type": "code",
   "execution_count": 27,
   "metadata": {
    "execution": {
     "iopub.execute_input": "2021-11-29T15:57:34.697224Z",
     "iopub.status.busy": "2021-11-29T15:57:34.696919Z",
     "iopub.status.idle": "2021-11-29T15:57:34.715922Z",
     "shell.execute_reply": "2021-11-29T15:57:34.714545Z",
     "shell.execute_reply.started": "2021-11-29T15:57:34.697186Z"
    }
   },
   "outputs": [],
   "source": [
    "gauss_clf = GaussianNB()\n",
    "standart_pipeline = Pipeline([('standart_scaler', StandardScaler()), ('model', gauss_clf)])\n",
    "minmax_pipeline = Pipeline([('min_max_scaler', MinMaxScaler()), ('model', gauss_clf)])"
   ]
  },
  {
   "cell_type": "code",
   "execution_count": 28,
   "metadata": {
    "execution": {
     "iopub.status.busy": "2021-11-29T15:57:34.716931Z",
     "iopub.status.idle": "2021-11-29T15:57:34.717737Z",
     "shell.execute_reply": "2021-11-29T15:57:34.717533Z",
     "shell.execute_reply.started": "2021-11-29T15:57:34.717512Z"
    }
   },
   "outputs": [],
   "source": [
    "gauss_clf_pipeline_dict = {\n",
    "    'standart' : standart_pipeline,\n",
    "    'min_max' : minmax_pipeline    \n",
    "}\n",
    "gauss_clf_score_list = {}"
   ]
  },
  {
   "cell_type": "code",
   "execution_count": 29,
   "metadata": {
    "execution": {
     "iopub.status.busy": "2021-11-29T15:57:34.718645Z",
     "iopub.status.idle": "2021-11-29T15:57:34.719387Z",
     "shell.execute_reply": "2021-11-29T15:57:34.719185Z",
     "shell.execute_reply.started": "2021-11-29T15:57:34.719163Z"
    }
   },
   "outputs": [
    {
     "name": "stdout",
     "output_type": "stream",
     "text": [
      "mean roc auc score: 0.6354743457959554, for scaler standart\n",
      "mean roc auc score: 0.6354756171295439, for scaler min_max\n"
     ]
    }
   ],
   "source": [
    "model_cross_val_score(gauss_clf_pipeline_dict) \n",
    "# so bad"
   ]
  },
  {
   "cell_type": "markdown",
   "metadata": {},
   "source": [
    "## SVC"
   ]
  },
  {
   "cell_type": "code",
   "execution_count": 30,
   "metadata": {
    "execution": {
     "iopub.execute_input": "2021-11-29T15:57:34.728113Z",
     "iopub.status.busy": "2021-11-29T15:57:34.727707Z",
     "iopub.status.idle": "2021-11-29T15:57:34.746795Z",
     "shell.execute_reply": "2021-11-29T15:57:34.745529Z",
     "shell.execute_reply.started": "2021-11-29T15:57:34.728081Z"
    }
   },
   "outputs": [],
   "source": [
    "svc_clf = LinearSVC(max_iter=4000)\n",
    "standart_pipeline = Pipeline([('standart_scaler', StandardScaler()), ('model', svc_clf)])\n",
    "minmax_pipeline = Pipeline([('min_max_scaler', MinMaxScaler()), ('model', svc_clf)])"
   ]
  },
  {
   "cell_type": "code",
   "execution_count": 31,
   "metadata": {
    "execution": {
     "iopub.status.busy": "2021-11-29T15:57:34.747699Z",
     "iopub.status.idle": "2021-11-29T15:57:34.748419Z",
     "shell.execute_reply": "2021-11-29T15:57:34.748234Z",
     "shell.execute_reply.started": "2021-11-29T15:57:34.748211Z"
    }
   },
   "outputs": [],
   "source": [
    "svc_clf_pipeline_dict = {\n",
    "    'standart' : standart_pipeline,\n",
    "    'min_max' : minmax_pipeline    \n",
    "}\n",
    "svc_clf_score_list = {}"
   ]
  },
  {
   "cell_type": "code",
   "execution_count": 32,
   "metadata": {
    "execution": {
     "iopub.status.busy": "2021-11-29T15:57:34.749991Z",
     "iopub.status.idle": "2021-11-29T15:57:34.750463Z",
     "shell.execute_reply": "2021-11-29T15:57:34.750233Z",
     "shell.execute_reply.started": "2021-11-29T15:57:34.750207Z"
    }
   },
   "outputs": [
    {
     "name": "stdout",
     "output_type": "stream",
     "text": [
      "mean roc auc score: 0.7488638378953519, for scaler standart\n",
      "mean roc auc score: 0.7488783963952846, for scaler min_max\n"
     ]
    }
   ],
   "source": [
    "model_cross_val_score(svc_clf_pipeline_dict) "
   ]
  },
  {
   "cell_type": "markdown",
   "metadata": {},
   "source": [
    "Logistic regression with standart scaler is the best. KNeighborsClassifier is very slow, I'll comment the cell"
   ]
  },
  {
   "cell_type": "markdown",
   "metadata": {},
   "source": [
    "# TUNING"
   ]
  },
  {
   "cell_type": "markdown",
   "metadata": {},
   "source": [
    "Need to tune hyperparametrs for best model to get the best score."
   ]
  },
  {
   "cell_type": "code",
   "execution_count": 35,
   "metadata": {},
   "outputs": [],
   "source": [
    "scaler = StandardScaler()"
   ]
  },
  {
   "cell_type": "code",
   "execution_count": 36,
   "metadata": {},
   "outputs": [],
   "source": [
    "X_train = scaler.fit_transform(X_train)\n",
    "X_test = scaler.transform(X_test)"
   ]
  },
  {
   "cell_type": "code",
   "execution_count": 75,
   "metadata": {},
   "outputs": [],
   "source": [
    "model = LogisticRegression()\n",
    "params = {'max_iter' : range(1000, 12000, 1000), 'C' : np.arange(0.2, 2, 0.2), \\\n",
    "         'n_jobs' : [MAX_CORE_COUNT]}"
   ]
  },
  {
   "cell_type": "code",
   "execution_count": 76,
   "metadata": {},
   "outputs": [],
   "source": [
    "grid = GridSearchCV(model, params, cv = 5, scoring='roc_auc', verbose = 3)"
   ]
  },
  {
   "cell_type": "code",
   "execution_count": 77,
   "metadata": {},
   "outputs": [
    {
     "name": "stdout",
     "output_type": "stream",
     "text": [
      "Fitting 5 folds for each of 99 candidates, totalling 495 fits\n",
      "[CV 1/5] END .................C=0.2, max_iter=1000, n_jobs=4; total time=  17.0s\n",
      "[CV 2/5] END .................C=0.2, max_iter=1000, n_jobs=4; total time=  11.6s\n",
      "[CV 3/5] END .................C=0.2, max_iter=1000, n_jobs=4; total time=  10.3s\n",
      "[CV 4/5] END .................C=0.2, max_iter=1000, n_jobs=4; total time=  10.1s\n",
      "[CV 5/5] END .................C=0.2, max_iter=1000, n_jobs=4; total time=   9.3s\n",
      "[CV 1/5] END .................C=0.2, max_iter=2000, n_jobs=4; total time=  13.9s\n",
      "[CV 2/5] END .................C=0.2, max_iter=2000, n_jobs=4; total time=  13.5s\n",
      "[CV 3/5] END .................C=0.2, max_iter=2000, n_jobs=4; total time=  10.7s\n",
      "[CV 4/5] END .................C=0.2, max_iter=2000, n_jobs=4; total time=  11.0s\n",
      "[CV 5/5] END .................C=0.2, max_iter=2000, n_jobs=4; total time=  10.6s\n",
      "[CV 1/5] END .................C=0.2, max_iter=3000, n_jobs=4; total time=  10.5s\n",
      "[CV 2/5] END .................C=0.2, max_iter=3000, n_jobs=4; total time=  15.4s\n",
      "[CV 3/5] END .................C=0.2, max_iter=3000, n_jobs=4; total time=  11.3s\n",
      "[CV 4/5] END .................C=0.2, max_iter=3000, n_jobs=4; total time=  10.9s\n",
      "[CV 5/5] END .................C=0.2, max_iter=3000, n_jobs=4; total time=  11.8s\n",
      "[CV 1/5] END .................C=0.2, max_iter=4000, n_jobs=4; total time=  10.6s\n",
      "[CV 2/5] END .................C=0.2, max_iter=4000, n_jobs=4; total time=  13.4s\n",
      "[CV 3/5] END .................C=0.2, max_iter=4000, n_jobs=4; total time=  10.3s\n",
      "[CV 4/5] END .................C=0.2, max_iter=4000, n_jobs=4; total time=  10.3s\n",
      "[CV 5/5] END .................C=0.2, max_iter=4000, n_jobs=4; total time=  10.7s\n",
      "[CV 1/5] END .................C=0.2, max_iter=5000, n_jobs=4; total time=  10.5s\n",
      "[CV 2/5] END .................C=0.2, max_iter=5000, n_jobs=4; total time=  10.3s\n",
      "[CV 3/5] END .................C=0.2, max_iter=5000, n_jobs=4; total time=   9.9s\n",
      "[CV 4/5] END .................C=0.2, max_iter=5000, n_jobs=4; total time=  10.4s\n",
      "[CV 5/5] END .................C=0.2, max_iter=5000, n_jobs=4; total time=  10.2s\n",
      "[CV 1/5] END .................C=0.2, max_iter=6000, n_jobs=4; total time=  10.7s\n",
      "[CV 2/5] END .................C=0.2, max_iter=6000, n_jobs=4; total time=  10.4s\n",
      "[CV 3/5] END .................C=0.2, max_iter=6000, n_jobs=4; total time=  10.6s\n",
      "[CV 4/5] END .................C=0.2, max_iter=6000, n_jobs=4; total time=  10.3s\n",
      "[CV 5/5] END .................C=0.2, max_iter=6000, n_jobs=4; total time=   9.9s\n",
      "[CV 1/5] END .................C=0.2, max_iter=7000, n_jobs=4; total time=   9.7s\n",
      "[CV 2/5] END .................C=0.2, max_iter=7000, n_jobs=4; total time=  10.1s\n",
      "[CV 3/5] END .................C=0.2, max_iter=7000, n_jobs=4; total time=  11.2s\n",
      "[CV 4/5] END .................C=0.2, max_iter=7000, n_jobs=4; total time=  11.8s\n",
      "[CV 5/5] END .................C=0.2, max_iter=7000, n_jobs=4; total time=  12.4s\n",
      "[CV 1/5] END .................C=0.2, max_iter=8000, n_jobs=4; total time=   9.9s\n",
      "[CV 2/5] END .................C=0.2, max_iter=8000, n_jobs=4; total time=   9.7s\n",
      "[CV 3/5] END .................C=0.2, max_iter=8000, n_jobs=4; total time=   9.7s\n",
      "[CV 4/5] END .................C=0.2, max_iter=8000, n_jobs=4; total time=  10.1s\n",
      "[CV 5/5] END .................C=0.2, max_iter=8000, n_jobs=4; total time=  10.0s\n",
      "[CV 1/5] END .................C=0.2, max_iter=9000, n_jobs=4; total time=  11.0s\n",
      "[CV 2/5] END .................C=0.2, max_iter=9000, n_jobs=4; total time=   9.7s\n",
      "[CV 3/5] END .................C=0.2, max_iter=9000, n_jobs=4; total time=   9.7s\n",
      "[CV 4/5] END .................C=0.2, max_iter=9000, n_jobs=4; total time=  10.1s\n",
      "[CV 5/5] END .................C=0.2, max_iter=9000, n_jobs=4; total time=   9.4s\n",
      "[CV 1/5] END ................C=0.2, max_iter=10000, n_jobs=4; total time=  10.0s\n",
      "[CV 2/5] END ................C=0.2, max_iter=10000, n_jobs=4; total time=  10.0s\n",
      "[CV 3/5] END ................C=0.2, max_iter=10000, n_jobs=4; total time=   9.8s\n",
      "[CV 4/5] END ................C=0.2, max_iter=10000, n_jobs=4; total time=  10.1s\n",
      "[CV 5/5] END ................C=0.2, max_iter=10000, n_jobs=4; total time=   9.8s\n",
      "[CV 1/5] END ................C=0.2, max_iter=11000, n_jobs=4; total time=  10.0s\n",
      "[CV 2/5] END ................C=0.2, max_iter=11000, n_jobs=4; total time=  10.0s\n",
      "[CV 3/5] END ................C=0.2, max_iter=11000, n_jobs=4; total time=  10.1s\n",
      "[CV 4/5] END ................C=0.2, max_iter=11000, n_jobs=4; total time=   9.7s\n",
      "[CV 5/5] END ................C=0.2, max_iter=11000, n_jobs=4; total time=  10.2s\n",
      "[CV 1/5] END .................C=0.4, max_iter=1000, n_jobs=4; total time=   9.9s\n",
      "[CV 2/5] END .................C=0.4, max_iter=1000, n_jobs=4; total time=   9.8s\n",
      "[CV 3/5] END .................C=0.4, max_iter=1000, n_jobs=4; total time=  10.2s\n",
      "[CV 4/5] END .................C=0.4, max_iter=1000, n_jobs=4; total time=  10.2s\n",
      "[CV 5/5] END .................C=0.4, max_iter=1000, n_jobs=4; total time=   9.7s\n",
      "[CV 1/5] END .................C=0.4, max_iter=2000, n_jobs=4; total time=   9.7s\n",
      "[CV 2/5] END .................C=0.4, max_iter=2000, n_jobs=4; total time=   9.0s\n",
      "[CV 3/5] END .................C=0.4, max_iter=2000, n_jobs=4; total time=   9.1s\n",
      "[CV 4/5] END .................C=0.4, max_iter=2000, n_jobs=4; total time=  10.0s\n",
      "[CV 5/5] END .................C=0.4, max_iter=2000, n_jobs=4; total time=   9.9s\n",
      "[CV 1/5] END .................C=0.4, max_iter=3000, n_jobs=4; total time=   9.7s\n",
      "[CV 2/5] END .................C=0.4, max_iter=3000, n_jobs=4; total time=  10.2s\n",
      "[CV 3/5] END .................C=0.4, max_iter=3000, n_jobs=4; total time=  10.5s\n",
      "[CV 4/5] END .................C=0.4, max_iter=3000, n_jobs=4; total time=   9.8s\n",
      "[CV 5/5] END .................C=0.4, max_iter=3000, n_jobs=4; total time=   9.8s\n",
      "[CV 1/5] END .................C=0.4, max_iter=4000, n_jobs=4; total time=  10.1s\n",
      "[CV 2/5] END .................C=0.4, max_iter=4000, n_jobs=4; total time=   9.6s\n",
      "[CV 3/5] END .................C=0.4, max_iter=4000, n_jobs=4; total time=  10.3s\n",
      "[CV 4/5] END .................C=0.4, max_iter=4000, n_jobs=4; total time=  10.7s\n",
      "[CV 5/5] END .................C=0.4, max_iter=4000, n_jobs=4; total time=  10.7s\n",
      "[CV 1/5] END .................C=0.4, max_iter=5000, n_jobs=4; total time=  10.5s\n",
      "[CV 2/5] END .................C=0.4, max_iter=5000, n_jobs=4; total time=  10.4s\n",
      "[CV 3/5] END .................C=0.4, max_iter=5000, n_jobs=4; total time=  10.5s\n",
      "[CV 4/5] END .................C=0.4, max_iter=5000, n_jobs=4; total time=  10.7s\n",
      "[CV 5/5] END .................C=0.4, max_iter=5000, n_jobs=4; total time=  10.4s\n",
      "[CV 1/5] END .................C=0.4, max_iter=6000, n_jobs=4; total time=  10.4s\n",
      "[CV 2/5] END .................C=0.4, max_iter=6000, n_jobs=4; total time=  10.4s\n",
      "[CV 3/5] END .................C=0.4, max_iter=6000, n_jobs=4; total time=  10.3s\n",
      "[CV 4/5] END .................C=0.4, max_iter=6000, n_jobs=4; total time=  10.7s\n",
      "[CV 5/5] END .................C=0.4, max_iter=6000, n_jobs=4; total time=  10.5s\n",
      "[CV 1/5] END .................C=0.4, max_iter=7000, n_jobs=4; total time=   9.5s\n",
      "[CV 2/5] END .................C=0.4, max_iter=7000, n_jobs=4; total time=  10.2s\n",
      "[CV 3/5] END .................C=0.4, max_iter=7000, n_jobs=4; total time=  10.9s\n",
      "[CV 4/5] END .................C=0.4, max_iter=7000, n_jobs=4; total time=  10.6s\n",
      "[CV 5/5] END .................C=0.4, max_iter=7000, n_jobs=4; total time=  10.7s\n",
      "[CV 1/5] END .................C=0.4, max_iter=8000, n_jobs=4; total time=  10.2s\n",
      "[CV 2/5] END .................C=0.4, max_iter=8000, n_jobs=4; total time=  10.4s\n",
      "[CV 3/5] END .................C=0.4, max_iter=8000, n_jobs=4; total time=  10.4s\n",
      "[CV 4/5] END .................C=0.4, max_iter=8000, n_jobs=4; total time=  10.5s\n",
      "[CV 5/5] END .................C=0.4, max_iter=8000, n_jobs=4; total time=  10.8s\n",
      "[CV 1/5] END .................C=0.4, max_iter=9000, n_jobs=4; total time=  10.7s\n",
      "[CV 2/5] END .................C=0.4, max_iter=9000, n_jobs=4; total time=  10.0s\n",
      "[CV 3/5] END .................C=0.4, max_iter=9000, n_jobs=4; total time=  10.4s\n",
      "[CV 4/5] END .................C=0.4, max_iter=9000, n_jobs=4; total time=  10.6s\n",
      "[CV 5/5] END .................C=0.4, max_iter=9000, n_jobs=4; total time=  10.6s\n",
      "[CV 1/5] END ................C=0.4, max_iter=10000, n_jobs=4; total time=  10.7s\n"
     ]
    },
    {
     "name": "stdout",
     "output_type": "stream",
     "text": [
      "[CV 2/5] END ................C=0.4, max_iter=10000, n_jobs=4; total time=  10.8s\n",
      "[CV 3/5] END ................C=0.4, max_iter=10000, n_jobs=4; total time=  10.4s\n",
      "[CV 4/5] END ................C=0.4, max_iter=10000, n_jobs=4; total time=  10.4s\n",
      "[CV 5/5] END ................C=0.4, max_iter=10000, n_jobs=4; total time=  10.8s\n",
      "[CV 1/5] END ................C=0.4, max_iter=11000, n_jobs=4; total time=  11.2s\n",
      "[CV 2/5] END ................C=0.4, max_iter=11000, n_jobs=4; total time=  11.1s\n",
      "[CV 3/5] END ................C=0.4, max_iter=11000, n_jobs=4; total time=  10.8s\n",
      "[CV 4/5] END ................C=0.4, max_iter=11000, n_jobs=4; total time=  10.8s\n",
      "[CV 5/5] END ................C=0.4, max_iter=11000, n_jobs=4; total time=  11.3s\n",
      "[CV 1/5] END ..C=0.6000000000000001, max_iter=1000, n_jobs=4; total time=  10.9s\n",
      "[CV 2/5] END ..C=0.6000000000000001, max_iter=1000, n_jobs=4; total time=  10.3s\n",
      "[CV 3/5] END ..C=0.6000000000000001, max_iter=1000, n_jobs=4; total time=  11.2s\n",
      "[CV 4/5] END ..C=0.6000000000000001, max_iter=1000, n_jobs=4; total time=  10.9s\n",
      "[CV 5/5] END ..C=0.6000000000000001, max_iter=1000, n_jobs=4; total time=  10.6s\n",
      "[CV 1/5] END ..C=0.6000000000000001, max_iter=2000, n_jobs=4; total time=  10.6s\n",
      "[CV 2/5] END ..C=0.6000000000000001, max_iter=2000, n_jobs=4; total time=  11.3s\n",
      "[CV 3/5] END ..C=0.6000000000000001, max_iter=2000, n_jobs=4; total time=  11.2s\n",
      "[CV 4/5] END ..C=0.6000000000000001, max_iter=2000, n_jobs=4; total time=   9.2s\n",
      "[CV 5/5] END ..C=0.6000000000000001, max_iter=2000, n_jobs=4; total time=  10.0s\n",
      "[CV 1/5] END ..C=0.6000000000000001, max_iter=3000, n_jobs=4; total time=  11.1s\n",
      "[CV 2/5] END ..C=0.6000000000000001, max_iter=3000, n_jobs=4; total time=  10.4s\n",
      "[CV 3/5] END ..C=0.6000000000000001, max_iter=3000, n_jobs=4; total time=  11.1s\n",
      "[CV 4/5] END ..C=0.6000000000000001, max_iter=3000, n_jobs=4; total time=  10.7s\n",
      "[CV 5/5] END ..C=0.6000000000000001, max_iter=3000, n_jobs=4; total time=  10.7s\n",
      "[CV 1/5] END ..C=0.6000000000000001, max_iter=4000, n_jobs=4; total time=  10.5s\n",
      "[CV 2/5] END ..C=0.6000000000000001, max_iter=4000, n_jobs=4; total time=  11.2s\n",
      "[CV 3/5] END ..C=0.6000000000000001, max_iter=4000, n_jobs=4; total time=  11.1s\n",
      "[CV 4/5] END ..C=0.6000000000000001, max_iter=4000, n_jobs=4; total time=  10.9s\n",
      "[CV 5/5] END ..C=0.6000000000000001, max_iter=4000, n_jobs=4; total time=  10.8s\n",
      "[CV 1/5] END ..C=0.6000000000000001, max_iter=5000, n_jobs=4; total time=  10.4s\n",
      "[CV 2/5] END ..C=0.6000000000000001, max_iter=5000, n_jobs=4; total time=  10.9s\n",
      "[CV 3/5] END ..C=0.6000000000000001, max_iter=5000, n_jobs=4; total time=  10.7s\n",
      "[CV 4/5] END ..C=0.6000000000000001, max_iter=5000, n_jobs=4; total time=  11.0s\n",
      "[CV 5/5] END ..C=0.6000000000000001, max_iter=5000, n_jobs=4; total time=  11.2s\n",
      "[CV 1/5] END ..C=0.6000000000000001, max_iter=6000, n_jobs=4; total time=  10.8s\n",
      "[CV 2/5] END ..C=0.6000000000000001, max_iter=6000, n_jobs=4; total time=  10.4s\n",
      "[CV 3/5] END ..C=0.6000000000000001, max_iter=6000, n_jobs=4; total time=  10.8s\n",
      "[CV 4/5] END ..C=0.6000000000000001, max_iter=6000, n_jobs=4; total time=  11.0s\n",
      "[CV 5/5] END ..C=0.6000000000000001, max_iter=6000, n_jobs=4; total time=  11.2s\n",
      "[CV 1/5] END ..C=0.6000000000000001, max_iter=7000, n_jobs=4; total time=  10.3s\n",
      "[CV 2/5] END ..C=0.6000000000000001, max_iter=7000, n_jobs=4; total time=  10.8s\n",
      "[CV 3/5] END ..C=0.6000000000000001, max_iter=7000, n_jobs=4; total time=  10.6s\n",
      "[CV 4/5] END ..C=0.6000000000000001, max_iter=7000, n_jobs=4; total time=  10.7s\n",
      "[CV 5/5] END ..C=0.6000000000000001, max_iter=7000, n_jobs=4; total time=  11.2s\n",
      "[CV 1/5] END ..C=0.6000000000000001, max_iter=8000, n_jobs=4; total time=  10.7s\n",
      "[CV 2/5] END ..C=0.6000000000000001, max_iter=8000, n_jobs=4; total time=  10.5s\n",
      "[CV 3/5] END ..C=0.6000000000000001, max_iter=8000, n_jobs=4; total time=   9.9s\n",
      "[CV 4/5] END ..C=0.6000000000000001, max_iter=8000, n_jobs=4; total time=  10.8s\n",
      "[CV 5/5] END ..C=0.6000000000000001, max_iter=8000, n_jobs=4; total time=  10.6s\n",
      "[CV 1/5] END ..C=0.6000000000000001, max_iter=9000, n_jobs=4; total time=  11.1s\n",
      "[CV 2/5] END ..C=0.6000000000000001, max_iter=9000, n_jobs=4; total time=  11.2s\n",
      "[CV 3/5] END ..C=0.6000000000000001, max_iter=9000, n_jobs=4; total time=  10.9s\n",
      "[CV 4/5] END ..C=0.6000000000000001, max_iter=9000, n_jobs=4; total time=  11.0s\n",
      "[CV 5/5] END ..C=0.6000000000000001, max_iter=9000, n_jobs=4; total time=   9.8s\n",
      "[CV 1/5] END .C=0.6000000000000001, max_iter=10000, n_jobs=4; total time=   7.6s\n",
      "[CV 2/5] END .C=0.6000000000000001, max_iter=10000, n_jobs=4; total time=   9.7s\n",
      "[CV 3/5] END .C=0.6000000000000001, max_iter=10000, n_jobs=4; total time=  10.2s\n",
      "[CV 4/5] END .C=0.6000000000000001, max_iter=10000, n_jobs=4; total time=  10.2s\n",
      "[CV 5/5] END .C=0.6000000000000001, max_iter=10000, n_jobs=4; total time=  10.6s\n",
      "[CV 1/5] END .C=0.6000000000000001, max_iter=11000, n_jobs=4; total time=  10.2s\n",
      "[CV 2/5] END .C=0.6000000000000001, max_iter=11000, n_jobs=4; total time=  10.4s\n",
      "[CV 3/5] END .C=0.6000000000000001, max_iter=11000, n_jobs=4; total time=  10.9s\n",
      "[CV 4/5] END .C=0.6000000000000001, max_iter=11000, n_jobs=4; total time=  10.7s\n",
      "[CV 5/5] END .C=0.6000000000000001, max_iter=11000, n_jobs=4; total time=  10.0s\n",
      "[CV 1/5] END .................C=0.8, max_iter=1000, n_jobs=4; total time=  10.4s\n",
      "[CV 2/5] END .................C=0.8, max_iter=1000, n_jobs=4; total time=  10.2s\n",
      "[CV 3/5] END .................C=0.8, max_iter=1000, n_jobs=4; total time=  10.6s\n",
      "[CV 4/5] END .................C=0.8, max_iter=1000, n_jobs=4; total time=  10.7s\n",
      "[CV 5/5] END .................C=0.8, max_iter=1000, n_jobs=4; total time=  10.4s\n",
      "[CV 1/5] END .................C=0.8, max_iter=2000, n_jobs=4; total time=  10.1s\n",
      "[CV 2/5] END .................C=0.8, max_iter=2000, n_jobs=4; total time=  10.8s\n",
      "[CV 3/5] END .................C=0.8, max_iter=2000, n_jobs=4; total time=  10.2s\n",
      "[CV 4/5] END .................C=0.8, max_iter=2000, n_jobs=4; total time=  10.4s\n",
      "[CV 5/5] END .................C=0.8, max_iter=2000, n_jobs=4; total time=   9.4s\n",
      "[CV 1/5] END .................C=0.8, max_iter=3000, n_jobs=4; total time=   9.2s\n",
      "[CV 2/5] END .................C=0.8, max_iter=3000, n_jobs=4; total time=   9.8s\n",
      "[CV 3/5] END .................C=0.8, max_iter=3000, n_jobs=4; total time=  10.4s\n",
      "[CV 4/5] END .................C=0.8, max_iter=3000, n_jobs=4; total time=  10.5s\n",
      "[CV 5/5] END .................C=0.8, max_iter=3000, n_jobs=4; total time=  10.7s\n",
      "[CV 1/5] END .................C=0.8, max_iter=4000, n_jobs=4; total time=  10.6s\n",
      "[CV 2/5] END .................C=0.8, max_iter=4000, n_jobs=4; total time=  10.4s\n",
      "[CV 3/5] END .................C=0.8, max_iter=4000, n_jobs=4; total time=  10.6s\n",
      "[CV 4/5] END .................C=0.8, max_iter=4000, n_jobs=4; total time=  10.4s\n",
      "[CV 5/5] END .................C=0.8, max_iter=4000, n_jobs=4; total time=  10.6s\n",
      "[CV 1/5] END .................C=0.8, max_iter=5000, n_jobs=4; total time=  10.4s\n",
      "[CV 2/5] END .................C=0.8, max_iter=5000, n_jobs=4; total time=  10.7s\n",
      "[CV 3/5] END .................C=0.8, max_iter=5000, n_jobs=4; total time=  10.2s\n",
      "[CV 4/5] END .................C=0.8, max_iter=5000, n_jobs=4; total time=  10.4s\n",
      "[CV 5/5] END .................C=0.8, max_iter=5000, n_jobs=4; total time=  10.8s\n",
      "[CV 1/5] END .................C=0.8, max_iter=6000, n_jobs=4; total time=  10.4s\n",
      "[CV 2/5] END .................C=0.8, max_iter=6000, n_jobs=4; total time=  10.3s\n",
      "[CV 3/5] END .................C=0.8, max_iter=6000, n_jobs=4; total time=  10.7s\n",
      "[CV 4/5] END .................C=0.8, max_iter=6000, n_jobs=4; total time=  10.2s\n",
      "[CV 5/5] END .................C=0.8, max_iter=6000, n_jobs=4; total time=  10.2s\n",
      "[CV 1/5] END .................C=0.8, max_iter=7000, n_jobs=4; total time=  10.4s\n",
      "[CV 2/5] END .................C=0.8, max_iter=7000, n_jobs=4; total time=  10.4s\n",
      "[CV 3/5] END .................C=0.8, max_iter=7000, n_jobs=4; total time=  10.7s\n",
      "[CV 4/5] END .................C=0.8, max_iter=7000, n_jobs=4; total time=  10.9s\n",
      "[CV 5/5] END .................C=0.8, max_iter=7000, n_jobs=4; total time=  10.2s\n",
      "[CV 1/5] END .................C=0.8, max_iter=8000, n_jobs=4; total time=  10.2s\n",
      "[CV 2/5] END .................C=0.8, max_iter=8000, n_jobs=4; total time=  10.5s\n",
      "[CV 3/5] END .................C=0.8, max_iter=8000, n_jobs=4; total time=  10.6s\n"
     ]
    },
    {
     "name": "stdout",
     "output_type": "stream",
     "text": [
      "[CV 4/5] END .................C=0.8, max_iter=8000, n_jobs=4; total time=  10.2s\n",
      "[CV 5/5] END .................C=0.8, max_iter=8000, n_jobs=4; total time=  10.6s\n",
      "[CV 1/5] END .................C=0.8, max_iter=9000, n_jobs=4; total time=  10.1s\n",
      "[CV 2/5] END .................C=0.8, max_iter=9000, n_jobs=4; total time=  10.1s\n",
      "[CV 3/5] END .................C=0.8, max_iter=9000, n_jobs=4; total time=  10.5s\n",
      "[CV 4/5] END .................C=0.8, max_iter=9000, n_jobs=4; total time=  10.7s\n",
      "[CV 5/5] END .................C=0.8, max_iter=9000, n_jobs=4; total time=  10.3s\n",
      "[CV 1/5] END ................C=0.8, max_iter=10000, n_jobs=4; total time=  10.6s\n",
      "[CV 2/5] END ................C=0.8, max_iter=10000, n_jobs=4; total time=  10.3s\n",
      "[CV 3/5] END ................C=0.8, max_iter=10000, n_jobs=4; total time=  10.2s\n",
      "[CV 4/5] END ................C=0.8, max_iter=10000, n_jobs=4; total time=  10.7s\n",
      "[CV 5/5] END ................C=0.8, max_iter=10000, n_jobs=4; total time=  10.8s\n",
      "[CV 1/5] END ................C=0.8, max_iter=11000, n_jobs=4; total time=  10.5s\n",
      "[CV 2/5] END ................C=0.8, max_iter=11000, n_jobs=4; total time=  10.1s\n",
      "[CV 3/5] END ................C=0.8, max_iter=11000, n_jobs=4; total time=  10.3s\n",
      "[CV 4/5] END ................C=0.8, max_iter=11000, n_jobs=4; total time=  10.2s\n",
      "[CV 5/5] END ................C=0.8, max_iter=11000, n_jobs=4; total time=  10.8s\n",
      "[CV 1/5] END .................C=1.0, max_iter=1000, n_jobs=4; total time=  10.3s\n",
      "[CV 2/5] END .................C=1.0, max_iter=1000, n_jobs=4; total time=  10.7s\n",
      "[CV 3/5] END .................C=1.0, max_iter=1000, n_jobs=4; total time=  10.7s\n",
      "[CV 4/5] END .................C=1.0, max_iter=1000, n_jobs=4; total time=  10.2s\n",
      "[CV 5/5] END .................C=1.0, max_iter=1000, n_jobs=4; total time=  10.1s\n",
      "[CV 1/5] END .................C=1.0, max_iter=2000, n_jobs=4; total time=  10.1s\n",
      "[CV 2/5] END .................C=1.0, max_iter=2000, n_jobs=4; total time=  10.7s\n",
      "[CV 3/5] END .................C=1.0, max_iter=2000, n_jobs=4; total time=  10.7s\n",
      "[CV 4/5] END .................C=1.0, max_iter=2000, n_jobs=4; total time=  10.2s\n",
      "[CV 5/5] END .................C=1.0, max_iter=2000, n_jobs=4; total time=  10.4s\n",
      "[CV 1/5] END .................C=1.0, max_iter=3000, n_jobs=4; total time=  10.4s\n",
      "[CV 2/5] END .................C=1.0, max_iter=3000, n_jobs=4; total time=  10.2s\n",
      "[CV 3/5] END .................C=1.0, max_iter=3000, n_jobs=4; total time=  10.5s\n",
      "[CV 4/5] END .................C=1.0, max_iter=3000, n_jobs=4; total time=   9.0s\n",
      "[CV 5/5] END .................C=1.0, max_iter=3000, n_jobs=4; total time=  10.8s\n",
      "[CV 1/5] END .................C=1.0, max_iter=4000, n_jobs=4; total time=  10.2s\n",
      "[CV 2/5] END .................C=1.0, max_iter=4000, n_jobs=4; total time=  10.2s\n",
      "[CV 3/5] END .................C=1.0, max_iter=4000, n_jobs=4; total time=  10.2s\n",
      "[CV 4/5] END .................C=1.0, max_iter=4000, n_jobs=4; total time=  10.7s\n",
      "[CV 5/5] END .................C=1.0, max_iter=4000, n_jobs=4; total time=  10.6s\n",
      "[CV 1/5] END .................C=1.0, max_iter=5000, n_jobs=4; total time=  10.3s\n",
      "[CV 2/5] END .................C=1.0, max_iter=5000, n_jobs=4; total time=  10.2s\n",
      "[CV 3/5] END .................C=1.0, max_iter=5000, n_jobs=4; total time=  10.7s\n",
      "[CV 4/5] END .................C=1.0, max_iter=5000, n_jobs=4; total time=  10.7s\n",
      "[CV 5/5] END .................C=1.0, max_iter=5000, n_jobs=4; total time=  10.3s\n",
      "[CV 1/5] END .................C=1.0, max_iter=6000, n_jobs=4; total time=  10.4s\n",
      "[CV 2/5] END .................C=1.0, max_iter=6000, n_jobs=4; total time=  10.7s\n",
      "[CV 3/5] END .................C=1.0, max_iter=6000, n_jobs=4; total time=  10.6s\n",
      "[CV 4/5] END .................C=1.0, max_iter=6000, n_jobs=4; total time=  10.7s\n",
      "[CV 5/5] END .................C=1.0, max_iter=6000, n_jobs=4; total time=  10.2s\n",
      "[CV 1/5] END .................C=1.0, max_iter=7000, n_jobs=4; total time=  10.7s\n",
      "[CV 2/5] END .................C=1.0, max_iter=7000, n_jobs=4; total time=  10.3s\n",
      "[CV 3/5] END .................C=1.0, max_iter=7000, n_jobs=4; total time=  10.1s\n",
      "[CV 4/5] END .................C=1.0, max_iter=7000, n_jobs=4; total time=  10.0s\n",
      "[CV 5/5] END .................C=1.0, max_iter=7000, n_jobs=4; total time=  10.2s\n",
      "[CV 1/5] END .................C=1.0, max_iter=8000, n_jobs=4; total time=  10.8s\n",
      "[CV 2/5] END .................C=1.0, max_iter=8000, n_jobs=4; total time=  10.2s\n",
      "[CV 3/5] END .................C=1.0, max_iter=8000, n_jobs=4; total time=  10.9s\n",
      "[CV 4/5] END .................C=1.0, max_iter=8000, n_jobs=4; total time=  10.4s\n",
      "[CV 5/5] END .................C=1.0, max_iter=8000, n_jobs=4; total time=  10.7s\n",
      "[CV 1/5] END .................C=1.0, max_iter=9000, n_jobs=4; total time=  10.6s\n",
      "[CV 2/5] END .................C=1.0, max_iter=9000, n_jobs=4; total time=  10.6s\n",
      "[CV 3/5] END .................C=1.0, max_iter=9000, n_jobs=4; total time=  10.0s\n",
      "[CV 4/5] END .................C=1.0, max_iter=9000, n_jobs=4; total time=  10.1s\n",
      "[CV 5/5] END .................C=1.0, max_iter=9000, n_jobs=4; total time=  10.2s\n",
      "[CV 1/5] END ................C=1.0, max_iter=10000, n_jobs=4; total time=  10.6s\n",
      "[CV 2/5] END ................C=1.0, max_iter=10000, n_jobs=4; total time=  11.1s\n",
      "[CV 3/5] END ................C=1.0, max_iter=10000, n_jobs=4; total time=  10.7s\n",
      "[CV 4/5] END ................C=1.0, max_iter=10000, n_jobs=4; total time=  10.9s\n",
      "[CV 5/5] END ................C=1.0, max_iter=10000, n_jobs=4; total time=  11.1s\n",
      "[CV 1/5] END ................C=1.0, max_iter=11000, n_jobs=4; total time=  10.6s\n",
      "[CV 2/5] END ................C=1.0, max_iter=11000, n_jobs=4; total time=  11.4s\n",
      "[CV 3/5] END ................C=1.0, max_iter=11000, n_jobs=4; total time=  11.2s\n",
      "[CV 4/5] END ................C=1.0, max_iter=11000, n_jobs=4; total time=  11.1s\n",
      "[CV 5/5] END ................C=1.0, max_iter=11000, n_jobs=4; total time=  10.5s\n",
      "[CV 1/5] END .................C=1.2, max_iter=1000, n_jobs=4; total time=  10.8s\n",
      "[CV 2/5] END .................C=1.2, max_iter=1000, n_jobs=4; total time=  11.2s\n",
      "[CV 3/5] END .................C=1.2, max_iter=1000, n_jobs=4; total time=  10.8s\n",
      "[CV 4/5] END .................C=1.2, max_iter=1000, n_jobs=4; total time=  10.9s\n",
      "[CV 5/5] END .................C=1.2, max_iter=1000, n_jobs=4; total time=  10.8s\n",
      "[CV 1/5] END .................C=1.2, max_iter=2000, n_jobs=4; total time=  10.5s\n",
      "[CV 2/5] END .................C=1.2, max_iter=2000, n_jobs=4; total time=  11.4s\n",
      "[CV 3/5] END .................C=1.2, max_iter=2000, n_jobs=4; total time=   9.2s\n",
      "[CV 4/5] END .................C=1.2, max_iter=2000, n_jobs=4; total time=  11.0s\n",
      "[CV 5/5] END .................C=1.2, max_iter=2000, n_jobs=4; total time=  11.1s\n",
      "[CV 1/5] END .................C=1.2, max_iter=3000, n_jobs=4; total time=  10.9s\n",
      "[CV 2/5] END .................C=1.2, max_iter=3000, n_jobs=4; total time=  10.8s\n",
      "[CV 3/5] END .................C=1.2, max_iter=3000, n_jobs=4; total time=  11.1s\n",
      "[CV 4/5] END .................C=1.2, max_iter=3000, n_jobs=4; total time=  10.8s\n",
      "[CV 5/5] END .................C=1.2, max_iter=3000, n_jobs=4; total time=  10.1s\n",
      "[CV 1/5] END .................C=1.2, max_iter=4000, n_jobs=4; total time=  13.9s\n",
      "[CV 2/5] END .................C=1.2, max_iter=4000, n_jobs=4; total time=  10.9s\n",
      "[CV 3/5] END .................C=1.2, max_iter=4000, n_jobs=4; total time=  10.4s\n",
      "[CV 4/5] END .................C=1.2, max_iter=4000, n_jobs=4; total time=  11.3s\n",
      "[CV 5/5] END .................C=1.2, max_iter=4000, n_jobs=4; total time=  10.7s\n",
      "[CV 1/5] END .................C=1.2, max_iter=5000, n_jobs=4; total time=  10.7s\n",
      "[CV 2/5] END .................C=1.2, max_iter=5000, n_jobs=4; total time=  10.9s\n",
      "[CV 3/5] END .................C=1.2, max_iter=5000, n_jobs=4; total time=  11.2s\n",
      "[CV 4/5] END .................C=1.2, max_iter=5000, n_jobs=4; total time=  11.2s\n",
      "[CV 5/5] END .................C=1.2, max_iter=5000, n_jobs=4; total time=  10.8s\n",
      "[CV 1/5] END .................C=1.2, max_iter=6000, n_jobs=4; total time=   7.2s\n",
      "[CV 2/5] END .................C=1.2, max_iter=6000, n_jobs=4; total time=  11.2s\n",
      "[CV 3/5] END .................C=1.2, max_iter=6000, n_jobs=4; total time=  11.1s\n",
      "[CV 4/5] END .................C=1.2, max_iter=6000, n_jobs=4; total time=  10.9s\n",
      "[CV 5/5] END .................C=1.2, max_iter=6000, n_jobs=4; total time=  10.9s\n"
     ]
    },
    {
     "name": "stdout",
     "output_type": "stream",
     "text": [
      "[CV 1/5] END .................C=1.2, max_iter=7000, n_jobs=4; total time=  11.3s\n",
      "[CV 2/5] END .................C=1.2, max_iter=7000, n_jobs=4; total time=  11.3s\n",
      "[CV 3/5] END .................C=1.2, max_iter=7000, n_jobs=4; total time=  10.7s\n",
      "[CV 4/5] END .................C=1.2, max_iter=7000, n_jobs=4; total time=  10.8s\n",
      "[CV 5/5] END .................C=1.2, max_iter=7000, n_jobs=4; total time=  10.6s\n",
      "[CV 1/5] END .................C=1.2, max_iter=8000, n_jobs=4; total time=  11.6s\n",
      "[CV 2/5] END .................C=1.2, max_iter=8000, n_jobs=4; total time=  11.2s\n",
      "[CV 3/5] END .................C=1.2, max_iter=8000, n_jobs=4; total time=  10.8s\n",
      "[CV 4/5] END .................C=1.2, max_iter=8000, n_jobs=4; total time=  11.0s\n",
      "[CV 5/5] END .................C=1.2, max_iter=8000, n_jobs=4; total time=  11.0s\n",
      "[CV 1/5] END .................C=1.2, max_iter=9000, n_jobs=4; total time=  11.1s\n",
      "[CV 2/5] END .................C=1.2, max_iter=9000, n_jobs=4; total time=  10.6s\n",
      "[CV 3/5] END .................C=1.2, max_iter=9000, n_jobs=4; total time=  11.2s\n",
      "[CV 4/5] END .................C=1.2, max_iter=9000, n_jobs=4; total time=  11.1s\n",
      "[CV 5/5] END .................C=1.2, max_iter=9000, n_jobs=4; total time=  10.7s\n",
      "[CV 1/5] END ................C=1.2, max_iter=10000, n_jobs=4; total time=  10.8s\n",
      "[CV 2/5] END ................C=1.2, max_iter=10000, n_jobs=4; total time=  10.8s\n",
      "[CV 3/5] END ................C=1.2, max_iter=10000, n_jobs=4; total time=  10.6s\n",
      "[CV 4/5] END ................C=1.2, max_iter=10000, n_jobs=4; total time=  11.1s\n",
      "[CV 5/5] END ................C=1.2, max_iter=10000, n_jobs=4; total time=  10.8s\n",
      "[CV 1/5] END ................C=1.2, max_iter=11000, n_jobs=4; total time=  11.1s\n",
      "[CV 2/5] END ................C=1.2, max_iter=11000, n_jobs=4; total time=  11.2s\n",
      "[CV 3/5] END ................C=1.2, max_iter=11000, n_jobs=4; total time=  10.8s\n",
      "[CV 4/5] END ................C=1.2, max_iter=11000, n_jobs=4; total time=  10.7s\n",
      "[CV 5/5] END ................C=1.2, max_iter=11000, n_jobs=4; total time=  11.1s\n",
      "[CV 1/5] END ..C=1.4000000000000001, max_iter=1000, n_jobs=4; total time=  11.2s\n",
      "[CV 2/5] END ..C=1.4000000000000001, max_iter=1000, n_jobs=4; total time=  11.0s\n",
      "[CV 3/5] END ..C=1.4000000000000001, max_iter=1000, n_jobs=4; total time=  11.0s\n",
      "[CV 4/5] END ..C=1.4000000000000001, max_iter=1000, n_jobs=4; total time=  11.0s\n",
      "[CV 5/5] END ..C=1.4000000000000001, max_iter=1000, n_jobs=4; total time=  11.1s\n",
      "[CV 1/5] END ..C=1.4000000000000001, max_iter=2000, n_jobs=4; total time=  11.3s\n",
      "[CV 2/5] END ..C=1.4000000000000001, max_iter=2000, n_jobs=4; total time=  10.6s\n",
      "[CV 3/5] END ..C=1.4000000000000001, max_iter=2000, n_jobs=4; total time=  10.8s\n",
      "[CV 4/5] END ..C=1.4000000000000001, max_iter=2000, n_jobs=4; total time=  10.8s\n",
      "[CV 5/5] END ..C=1.4000000000000001, max_iter=2000, n_jobs=4; total time=  10.5s\n",
      "[CV 1/5] END ..C=1.4000000000000001, max_iter=3000, n_jobs=4; total time=  11.2s\n",
      "[CV 2/5] END ..C=1.4000000000000001, max_iter=3000, n_jobs=4; total time=  11.1s\n",
      "[CV 3/5] END ..C=1.4000000000000001, max_iter=3000, n_jobs=4; total time=  11.5s\n",
      "[CV 4/5] END ..C=1.4000000000000001, max_iter=3000, n_jobs=4; total time=  10.5s\n",
      "[CV 5/5] END ..C=1.4000000000000001, max_iter=3000, n_jobs=4; total time=   9.0s\n",
      "[CV 1/5] END ..C=1.4000000000000001, max_iter=4000, n_jobs=4; total time=  10.4s\n",
      "[CV 2/5] END ..C=1.4000000000000001, max_iter=4000, n_jobs=4; total time=  10.4s\n",
      "[CV 3/5] END ..C=1.4000000000000001, max_iter=4000, n_jobs=4; total time=  10.5s\n",
      "[CV 4/5] END ..C=1.4000000000000001, max_iter=4000, n_jobs=4; total time=  10.2s\n",
      "[CV 5/5] END ..C=1.4000000000000001, max_iter=4000, n_jobs=4; total time=  10.1s\n",
      "[CV 1/5] END ..C=1.4000000000000001, max_iter=5000, n_jobs=4; total time=  10.6s\n",
      "[CV 2/5] END ..C=1.4000000000000001, max_iter=5000, n_jobs=4; total time=  10.2s\n",
      "[CV 3/5] END ..C=1.4000000000000001, max_iter=5000, n_jobs=4; total time=  10.4s\n",
      "[CV 4/5] END ..C=1.4000000000000001, max_iter=5000, n_jobs=4; total time=  10.4s\n",
      "[CV 5/5] END ..C=1.4000000000000001, max_iter=5000, n_jobs=4; total time=  10.8s\n",
      "[CV 1/5] END ..C=1.4000000000000001, max_iter=6000, n_jobs=4; total time=  10.7s\n",
      "[CV 2/5] END ..C=1.4000000000000001, max_iter=6000, n_jobs=4; total time=  10.1s\n",
      "[CV 3/5] END ..C=1.4000000000000001, max_iter=6000, n_jobs=4; total time=  10.4s\n",
      "[CV 4/5] END ..C=1.4000000000000001, max_iter=6000, n_jobs=4; total time=  10.1s\n",
      "[CV 5/5] END ..C=1.4000000000000001, max_iter=6000, n_jobs=4; total time=  10.6s\n",
      "[CV 1/5] END ..C=1.4000000000000001, max_iter=7000, n_jobs=4; total time=  10.9s\n",
      "[CV 2/5] END ..C=1.4000000000000001, max_iter=7000, n_jobs=4; total time=  10.8s\n",
      "[CV 3/5] END ..C=1.4000000000000001, max_iter=7000, n_jobs=4; total time=  10.1s\n",
      "[CV 4/5] END ..C=1.4000000000000001, max_iter=7000, n_jobs=4; total time=  10.2s\n",
      "[CV 5/5] END ..C=1.4000000000000001, max_iter=7000, n_jobs=4; total time=  10.5s\n",
      "[CV 1/5] END ..C=1.4000000000000001, max_iter=8000, n_jobs=4; total time=  10.6s\n",
      "[CV 2/5] END ..C=1.4000000000000001, max_iter=8000, n_jobs=4; total time=  10.3s\n",
      "[CV 3/5] END ..C=1.4000000000000001, max_iter=8000, n_jobs=4; total time=  10.2s\n",
      "[CV 4/5] END ..C=1.4000000000000001, max_iter=8000, n_jobs=4; total time=  10.6s\n",
      "[CV 5/5] END ..C=1.4000000000000001, max_iter=8000, n_jobs=4; total time=  10.5s\n",
      "[CV 1/5] END ..C=1.4000000000000001, max_iter=9000, n_jobs=4; total time=  10.2s\n",
      "[CV 2/5] END ..C=1.4000000000000001, max_iter=9000, n_jobs=4; total time=  10.4s\n",
      "[CV 3/5] END ..C=1.4000000000000001, max_iter=9000, n_jobs=4; total time=  10.2s\n",
      "[CV 4/5] END ..C=1.4000000000000001, max_iter=9000, n_jobs=4; total time=  10.6s\n",
      "[CV 5/5] END ..C=1.4000000000000001, max_iter=9000, n_jobs=4; total time=  10.3s\n",
      "[CV 1/5] END .C=1.4000000000000001, max_iter=10000, n_jobs=4; total time=  10.3s\n",
      "[CV 2/5] END .C=1.4000000000000001, max_iter=10000, n_jobs=4; total time=  10.3s\n",
      "[CV 3/5] END .C=1.4000000000000001, max_iter=10000, n_jobs=4; total time=  10.9s\n",
      "[CV 4/5] END .C=1.4000000000000001, max_iter=10000, n_jobs=4; total time=  10.3s\n",
      "[CV 5/5] END .C=1.4000000000000001, max_iter=10000, n_jobs=4; total time=  10.8s\n",
      "[CV 1/5] END .C=1.4000000000000001, max_iter=11000, n_jobs=4; total time=  10.6s\n",
      "[CV 2/5] END .C=1.4000000000000001, max_iter=11000, n_jobs=4; total time=  10.3s\n",
      "[CV 3/5] END .C=1.4000000000000001, max_iter=11000, n_jobs=4; total time=  10.6s\n",
      "[CV 4/5] END .C=1.4000000000000001, max_iter=11000, n_jobs=4; total time=  10.5s\n",
      "[CV 5/5] END .C=1.4000000000000001, max_iter=11000, n_jobs=4; total time=  10.6s\n",
      "[CV 1/5] END .................C=1.6, max_iter=1000, n_jobs=4; total time=  10.0s\n",
      "[CV 2/5] END .................C=1.6, max_iter=1000, n_jobs=4; total time=  10.1s\n",
      "[CV 3/5] END .................C=1.6, max_iter=1000, n_jobs=4; total time=  10.4s\n",
      "[CV 4/5] END .................C=1.6, max_iter=1000, n_jobs=4; total time=  10.5s\n",
      "[CV 5/5] END .................C=1.6, max_iter=1000, n_jobs=4; total time=  10.6s\n",
      "[CV 1/5] END .................C=1.6, max_iter=2000, n_jobs=4; total time=  10.5s\n",
      "[CV 2/5] END .................C=1.6, max_iter=2000, n_jobs=4; total time=  10.7s\n",
      "[CV 3/5] END .................C=1.6, max_iter=2000, n_jobs=4; total time=  10.6s\n",
      "[CV 4/5] END .................C=1.6, max_iter=2000, n_jobs=4; total time=  10.5s\n",
      "[CV 5/5] END .................C=1.6, max_iter=2000, n_jobs=4; total time=  10.4s\n",
      "[CV 1/5] END .................C=1.6, max_iter=3000, n_jobs=4; total time=  10.5s\n",
      "[CV 2/5] END .................C=1.6, max_iter=3000, n_jobs=4; total time=  10.6s\n",
      "[CV 3/5] END .................C=1.6, max_iter=3000, n_jobs=4; total time=   9.8s\n",
      "[CV 4/5] END .................C=1.6, max_iter=3000, n_jobs=4; total time=  10.1s\n",
      "[CV 5/5] END .................C=1.6, max_iter=3000, n_jobs=4; total time=  10.3s\n",
      "[CV 1/5] END .................C=1.6, max_iter=4000, n_jobs=4; total time=  10.8s\n",
      "[CV 2/5] END .................C=1.6, max_iter=4000, n_jobs=4; total time=  10.6s\n",
      "[CV 3/5] END .................C=1.6, max_iter=4000, n_jobs=4; total time=  10.4s\n",
      "[CV 4/5] END .................C=1.6, max_iter=4000, n_jobs=4; total time=  10.3s\n",
      "[CV 5/5] END .................C=1.6, max_iter=4000, n_jobs=4; total time=  10.7s\n",
      "[CV 1/5] END .................C=1.6, max_iter=5000, n_jobs=4; total time=  10.8s\n",
      "[CV 2/5] END .................C=1.6, max_iter=5000, n_jobs=4; total time=  10.7s\n"
     ]
    },
    {
     "name": "stdout",
     "output_type": "stream",
     "text": [
      "[CV 3/5] END .................C=1.6, max_iter=5000, n_jobs=4; total time=  10.8s\n",
      "[CV 4/5] END .................C=1.6, max_iter=5000, n_jobs=4; total time=  10.0s\n",
      "[CV 5/5] END .................C=1.6, max_iter=5000, n_jobs=4; total time=  10.2s\n",
      "[CV 1/5] END .................C=1.6, max_iter=6000, n_jobs=4; total time=  10.0s\n",
      "[CV 2/5] END .................C=1.6, max_iter=6000, n_jobs=4; total time=  10.4s\n",
      "[CV 3/5] END .................C=1.6, max_iter=6000, n_jobs=4; total time=  10.7s\n",
      "[CV 4/5] END .................C=1.6, max_iter=6000, n_jobs=4; total time=  10.3s\n",
      "[CV 5/5] END .................C=1.6, max_iter=6000, n_jobs=4; total time=  10.2s\n",
      "[CV 1/5] END .................C=1.6, max_iter=7000, n_jobs=4; total time=  10.2s\n",
      "[CV 2/5] END .................C=1.6, max_iter=7000, n_jobs=4; total time=  10.7s\n",
      "[CV 3/5] END .................C=1.6, max_iter=7000, n_jobs=4; total time=  10.0s\n",
      "[CV 4/5] END .................C=1.6, max_iter=7000, n_jobs=4; total time=  10.4s\n",
      "[CV 5/5] END .................C=1.6, max_iter=7000, n_jobs=4; total time=  10.5s\n",
      "[CV 1/5] END .................C=1.6, max_iter=8000, n_jobs=4; total time=  10.2s\n",
      "[CV 2/5] END .................C=1.6, max_iter=8000, n_jobs=4; total time=  10.3s\n",
      "[CV 3/5] END .................C=1.6, max_iter=8000, n_jobs=4; total time=  10.3s\n",
      "[CV 4/5] END .................C=1.6, max_iter=8000, n_jobs=4; total time=  10.7s\n",
      "[CV 5/5] END .................C=1.6, max_iter=8000, n_jobs=4; total time=  10.3s\n",
      "[CV 1/5] END .................C=1.6, max_iter=9000, n_jobs=4; total time=  10.7s\n",
      "[CV 2/5] END .................C=1.6, max_iter=9000, n_jobs=4; total time=  10.8s\n",
      "[CV 3/5] END .................C=1.6, max_iter=9000, n_jobs=4; total time=  10.7s\n",
      "[CV 4/5] END .................C=1.6, max_iter=9000, n_jobs=4; total time=  10.4s\n",
      "[CV 5/5] END .................C=1.6, max_iter=9000, n_jobs=4; total time=  10.3s\n",
      "[CV 1/5] END ................C=1.6, max_iter=10000, n_jobs=4; total time=  10.4s\n",
      "[CV 2/5] END ................C=1.6, max_iter=10000, n_jobs=4; total time=  10.2s\n",
      "[CV 3/5] END ................C=1.6, max_iter=10000, n_jobs=4; total time=  10.7s\n",
      "[CV 4/5] END ................C=1.6, max_iter=10000, n_jobs=4; total time=  10.6s\n",
      "[CV 5/5] END ................C=1.6, max_iter=10000, n_jobs=4; total time=  10.2s\n",
      "[CV 1/5] END ................C=1.6, max_iter=11000, n_jobs=4; total time=  10.4s\n",
      "[CV 2/5] END ................C=1.6, max_iter=11000, n_jobs=4; total time=  10.7s\n",
      "[CV 3/5] END ................C=1.6, max_iter=11000, n_jobs=4; total time=  10.5s\n",
      "[CV 4/5] END ................C=1.6, max_iter=11000, n_jobs=4; total time=  10.4s\n",
      "[CV 5/5] END ................C=1.6, max_iter=11000, n_jobs=4; total time=  10.2s\n",
      "[CV 1/5] END .................C=1.8, max_iter=1000, n_jobs=4; total time=  10.6s\n",
      "[CV 2/5] END .................C=1.8, max_iter=1000, n_jobs=4; total time=  10.8s\n",
      "[CV 3/5] END .................C=1.8, max_iter=1000, n_jobs=4; total time=  10.5s\n",
      "[CV 4/5] END .................C=1.8, max_iter=1000, n_jobs=4; total time=  10.7s\n",
      "[CV 5/5] END .................C=1.8, max_iter=1000, n_jobs=4; total time=  10.4s\n",
      "[CV 1/5] END .................C=1.8, max_iter=2000, n_jobs=4; total time=  10.3s\n",
      "[CV 2/5] END .................C=1.8, max_iter=2000, n_jobs=4; total time=  10.7s\n",
      "[CV 3/5] END .................C=1.8, max_iter=2000, n_jobs=4; total time=  10.4s\n",
      "[CV 4/5] END .................C=1.8, max_iter=2000, n_jobs=4; total time=  10.3s\n",
      "[CV 5/5] END .................C=1.8, max_iter=2000, n_jobs=4; total time=  10.3s\n",
      "[CV 1/5] END .................C=1.8, max_iter=3000, n_jobs=4; total time=  10.6s\n",
      "[CV 2/5] END .................C=1.8, max_iter=3000, n_jobs=4; total time=  10.8s\n",
      "[CV 3/5] END .................C=1.8, max_iter=3000, n_jobs=4; total time=  10.5s\n",
      "[CV 4/5] END .................C=1.8, max_iter=3000, n_jobs=4; total time=  10.6s\n",
      "[CV 5/5] END .................C=1.8, max_iter=3000, n_jobs=4; total time=  10.0s\n",
      "[CV 1/5] END .................C=1.8, max_iter=4000, n_jobs=4; total time=  10.7s\n",
      "[CV 2/5] END .................C=1.8, max_iter=4000, n_jobs=4; total time=  10.6s\n",
      "[CV 3/5] END .................C=1.8, max_iter=4000, n_jobs=4; total time=  10.2s\n",
      "[CV 4/5] END .................C=1.8, max_iter=4000, n_jobs=4; total time=   9.8s\n",
      "[CV 5/5] END .................C=1.8, max_iter=4000, n_jobs=4; total time=  10.1s\n",
      "[CV 1/5] END .................C=1.8, max_iter=5000, n_jobs=4; total time=  10.7s\n",
      "[CV 2/5] END .................C=1.8, max_iter=5000, n_jobs=4; total time=  11.1s\n",
      "[CV 3/5] END .................C=1.8, max_iter=5000, n_jobs=4; total time=  11.1s\n",
      "[CV 4/5] END .................C=1.8, max_iter=5000, n_jobs=4; total time=  11.1s\n",
      "[CV 5/5] END .................C=1.8, max_iter=5000, n_jobs=4; total time=  10.7s\n",
      "[CV 1/5] END .................C=1.8, max_iter=6000, n_jobs=4; total time=  10.9s\n",
      "[CV 2/5] END .................C=1.8, max_iter=6000, n_jobs=4; total time=  10.6s\n",
      "[CV 3/5] END .................C=1.8, max_iter=6000, n_jobs=4; total time=  10.8s\n",
      "[CV 4/5] END .................C=1.8, max_iter=6000, n_jobs=4; total time=  11.1s\n",
      "[CV 5/5] END .................C=1.8, max_iter=6000, n_jobs=4; total time=  11.4s\n",
      "[CV 1/5] END .................C=1.8, max_iter=7000, n_jobs=4; total time=  11.1s\n",
      "[CV 2/5] END .................C=1.8, max_iter=7000, n_jobs=4; total time=  10.9s\n",
      "[CV 3/5] END .................C=1.8, max_iter=7000, n_jobs=4; total time=  11.2s\n",
      "[CV 4/5] END .................C=1.8, max_iter=7000, n_jobs=4; total time=  11.1s\n",
      "[CV 5/5] END .................C=1.8, max_iter=7000, n_jobs=4; total time=  10.8s\n",
      "[CV 1/5] END .................C=1.8, max_iter=8000, n_jobs=4; total time=  11.0s\n",
      "[CV 2/5] END .................C=1.8, max_iter=8000, n_jobs=4; total time=  10.7s\n",
      "[CV 3/5] END .................C=1.8, max_iter=8000, n_jobs=4; total time=  10.7s\n",
      "[CV 4/5] END .................C=1.8, max_iter=8000, n_jobs=4; total time=  10.6s\n",
      "[CV 5/5] END .................C=1.8, max_iter=8000, n_jobs=4; total time=  11.1s\n",
      "[CV 1/5] END .................C=1.8, max_iter=9000, n_jobs=4; total time=  11.2s\n",
      "[CV 2/5] END .................C=1.8, max_iter=9000, n_jobs=4; total time=  11.3s\n",
      "[CV 3/5] END .................C=1.8, max_iter=9000, n_jobs=4; total time=  10.9s\n",
      "[CV 4/5] END .................C=1.8, max_iter=9000, n_jobs=4; total time=  11.0s\n",
      "[CV 5/5] END .................C=1.8, max_iter=9000, n_jobs=4; total time=  11.3s\n",
      "[CV 1/5] END ................C=1.8, max_iter=10000, n_jobs=4; total time=  10.9s\n",
      "[CV 2/5] END ................C=1.8, max_iter=10000, n_jobs=4; total time=  10.6s\n",
      "[CV 3/5] END ................C=1.8, max_iter=10000, n_jobs=4; total time=  10.9s\n",
      "[CV 4/5] END ................C=1.8, max_iter=10000, n_jobs=4; total time=  11.2s\n",
      "[CV 5/5] END ................C=1.8, max_iter=10000, n_jobs=4; total time=  11.1s\n",
      "[CV 1/5] END ................C=1.8, max_iter=11000, n_jobs=4; total time=  10.7s\n",
      "[CV 2/5] END ................C=1.8, max_iter=11000, n_jobs=4; total time=  11.2s\n",
      "[CV 3/5] END ................C=1.8, max_iter=11000, n_jobs=4; total time=  11.2s\n",
      "[CV 4/5] END ................C=1.8, max_iter=11000, n_jobs=4; total time=  11.2s\n",
      "[CV 5/5] END ................C=1.8, max_iter=11000, n_jobs=4; total time=  10.6s\n"
     ]
    },
    {
     "data": {
      "text/plain": [
       "GridSearchCV(cv=5, estimator=LogisticRegression(),\n",
       "             param_grid={'C': array([0.2, 0.4, 0.6, 0.8, 1. , 1.2, 1.4, 1.6, 1.8]),\n",
       "                         'max_iter': range(1000, 12000, 1000), 'n_jobs': [4]},\n",
       "             scoring='roc_auc', verbose=3)"
      ]
     },
     "execution_count": 77,
     "metadata": {},
     "output_type": "execute_result"
    }
   ],
   "source": [
    "grid.fit(X_train, y_train)\n",
    "#tried to tune solver but got an error"
   ]
  },
  {
   "cell_type": "code",
   "execution_count": 78,
   "metadata": {},
   "outputs": [
    {
     "data": {
      "text/plain": [
       "0.7489184456771679"
      ]
     },
     "execution_count": 78,
     "metadata": {},
     "output_type": "execute_result"
    }
   ],
   "source": [
    "grid.best_score_"
   ]
  },
  {
   "cell_type": "code",
   "execution_count": 85,
   "metadata": {},
   "outputs": [
    {
     "data": {
      "text/plain": [
       "{'C': 0.4, 'max_iter': 1000, 'n_jobs': 4}"
      ]
     },
     "execution_count": 85,
     "metadata": {},
     "output_type": "execute_result"
    }
   ],
   "source": [
    "grid.best_params_"
   ]
  },
  {
   "cell_type": "code",
   "execution_count": 80,
   "metadata": {},
   "outputs": [],
   "source": [
    "best_model = grid.best_estimator_"
   ]
  },
  {
   "cell_type": "code",
   "execution_count": 90,
   "metadata": {},
   "outputs": [],
   "source": [
    "not_need_feature = ['id', 'target']\n",
    "features = [f for f in train.columns if f not in not_need_feature]"
   ]
  },
  {
   "cell_type": "code",
   "execution_count": 92,
   "metadata": {},
   "outputs": [],
   "source": [
    "x_pred = test[features].values\n",
    "x_pred = scaler.transform(x_pred)"
   ]
  },
  {
   "cell_type": "code",
   "execution_count": 93,
   "metadata": {},
   "outputs": [],
   "source": [
    "test['target'] = best_model.predict(x_pred)"
   ]
  },
  {
   "cell_type": "code",
   "execution_count": 96,
   "metadata": {},
   "outputs": [],
   "source": [
    "test[['id', 'target']].to_csv('tab_comp_log_reg_pred.csv', index = False)"
   ]
  }
 ],
 "metadata": {
  "kernelspec": {
   "display_name": "Python 3",
   "language": "python",
   "name": "python3"
  }
 },
 "nbformat": 4,
 "nbformat_minor": 4
}
